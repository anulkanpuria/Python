{
 "cells": [
  {
   "cell_type": "code",
   "execution_count": 1,
   "id": "43769577-7885-48c0-9967-18351ba21647",
   "metadata": {},
   "outputs": [],
   "source": [
    "import pandas as pd\n",
    "import seaborn as sns\n",
    "\n",
    "netflix = pd.read_csv('nf_movies.csv')\n",
    "nf = netflix.copy()"
   ]
  },
  {
   "cell_type": "markdown",
   "id": "c44ca5fa-f018-4dd6-8b58-3384767ac715",
   "metadata": {},
   "source": [
    "## 1. Data Wrangling"
   ]
  },
  {
   "cell_type": "markdown",
   "id": "d2925ebf-b6c5-4c73-84be-d0c0cd2c27e8",
   "metadata": {},
   "source": [
    "### Removing Duplicate Rows"
   ]
  },
  {
   "cell_type": "code",
   "execution_count": 2,
   "id": "fb800d4f-acd7-4547-887e-634dee6e1854",
   "metadata": {},
   "outputs": [
    {
     "data": {
      "text/plain": [
       "False    9957\n",
       "dtype: int64"
      ]
     },
     "execution_count": 2,
     "metadata": {},
     "output_type": "execute_result"
    }
   ],
   "source": [
    "nf.duplicated().value_counts()"
   ]
  },
  {
   "cell_type": "markdown",
   "id": "ee676e4f-fe82-4d2c-a7ee-788f10a61b35",
   "metadata": {},
   "source": [
    "### Removing unwanted columns"
   ]
  },
  {
   "cell_type": "code",
   "execution_count": 3,
   "id": "23e49cbf-b596-4cf9-9de1-8a9f21c1bc97",
   "metadata": {},
   "outputs": [
    {
     "data": {
      "text/plain": [
       "(9957, 9)"
      ]
     },
     "execution_count": 3,
     "metadata": {},
     "output_type": "execute_result"
    }
   ],
   "source": [
    "nf.shape"
   ]
  },
  {
   "cell_type": "code",
   "execution_count": 4,
   "id": "bf9096f9-bb57-4ed7-aeb4-bf7cd254660f",
   "metadata": {},
   "outputs": [],
   "source": [
    "nf = nf.drop(columns = 'description')"
   ]
  },
  {
   "cell_type": "markdown",
   "id": "6f1f7cb3-6fe2-4ba7-b90c-b016fda4af35",
   "metadata": {},
   "source": [
    "### Dealing with NULL values"
   ]
  },
  {
   "cell_type": "code",
   "execution_count": 5,
   "id": "8dfea85d-a482-4801-ad61-cc8b38af5235",
   "metadata": {},
   "outputs": [
    {
     "data": {
      "text/plain": [
       "title             0\n",
       "year            527\n",
       "certificate    3453\n",
       "duration       2036\n",
       "genre            73\n",
       "rating         1173\n",
       "stars             0\n",
       "votes          1173\n",
       "dtype: int64"
      ]
     },
     "execution_count": 5,
     "metadata": {},
     "output_type": "execute_result"
    }
   ],
   "source": [
    "nf.isna().sum()"
   ]
  },
  {
   "cell_type": "code",
   "execution_count": 6,
   "id": "cc51cd91-505c-4322-83b3-3e0c4fb0cc7f",
   "metadata": {},
   "outputs": [
    {
     "name": "stdout",
     "output_type": "stream",
     "text": [
      "<class 'pandas.core.frame.DataFrame'>\n",
      "RangeIndex: 9957 entries, 0 to 9956\n",
      "Data columns (total 8 columns):\n",
      " #   Column       Non-Null Count  Dtype  \n",
      "---  ------       --------------  -----  \n",
      " 0   title        9957 non-null   object \n",
      " 1   year         9430 non-null   object \n",
      " 2   certificate  6504 non-null   object \n",
      " 3   duration     7921 non-null   object \n",
      " 4   genre        9884 non-null   object \n",
      " 5   rating       8784 non-null   float64\n",
      " 6   stars        9957 non-null   object \n",
      " 7   votes        8784 non-null   object \n",
      "dtypes: float64(1), object(7)\n",
      "memory usage: 622.4+ KB\n"
     ]
    }
   ],
   "source": [
    "nf.info()"
   ]
  },
  {
   "cell_type": "code",
   "execution_count": 7,
   "id": "81607ffd-65bd-423f-ab40-e9485b21437c",
   "metadata": {},
   "outputs": [
    {
     "data": {
      "text/plain": [
       "<AxesSubplot:>"
      ]
     },
     "execution_count": 7,
     "metadata": {},
     "output_type": "execute_result"
    },
    {
     "data": {
      "image/png": "[encoded data removed]",
      "text/plain": [
       "<Figure size 432x288 with 2 Axes>"
      ]
     },
     "metadata": {
      "needs_background": "light"
     },
     "output_type": "display_data"
    }
   ],
   "source": [
    "sns.heatmap(nf.isna())"
   ]
  },
  {
   "cell_type": "code",
   "execution_count": 8,
   "id": "114db346-2e9f-4eb6-9826-9d1eee9a2356",
   "metadata": {},
   "outputs": [],
   "source": [
    "nf['votes'] = nf.votes.fillna(0)"
   ]
  },
  {
   "cell_type": "markdown",
   "id": "680c6f4d-412c-42b5-9c8b-f9b626fd221f",
   "metadata": {},
   "source": [
    "### Correcting data into usable form"
   ]
  },
  {
   "cell_type": "code",
   "execution_count": 9,
   "id": "56a0bda2-40ec-4aff-b906-5960eefdf816",
   "metadata": {},
   "outputs": [
    {
     "name": "stdout",
     "output_type": "stream",
     "text": [
      "<class 'pandas.core.frame.DataFrame'>\n",
      "RangeIndex: 9957 entries, 0 to 9956\n",
      "Data columns (total 8 columns):\n",
      " #   Column       Non-Null Count  Dtype  \n",
      "---  ------       --------------  -----  \n",
      " 0   title        9957 non-null   object \n",
      " 1   year         9430 non-null   object \n",
      " 2   certificate  6504 non-null   object \n",
      " 3   duration     7921 non-null   object \n",
      " 4   genre        9884 non-null   object \n",
      " 5   rating       8784 non-null   float64\n",
      " 6   stars        9957 non-null   object \n",
      " 7   votes        9957 non-null   object \n",
      "dtypes: float64(1), object(7)\n",
      "memory usage: 622.4+ KB\n"
     ]
    }
   ],
   "source": [
    "nf.info()"
   ]
  },
  {
   "cell_type": "code",
   "execution_count": 10,
   "id": "ef29c01f-4818-4d26-adaf-c8694fc341cc",
   "metadata": {},
   "outputs": [],
   "source": [
    "nf[\"year\"] = nf[\"year\"].str.extract(r'(\\d+)')"
   ]
  },
  {
   "cell_type": "code",
   "execution_count": 11,
   "id": "71708799-f5de-43f4-be2b-95ea1f2df998",
   "metadata": {},
   "outputs": [],
   "source": [
    "nf['year'] = nf['year'].str[0:4]"
   ]
  },
  {
   "cell_type": "code",
   "execution_count": 12,
   "id": "5a7c2d2f-4544-46d8-9215-c19d8f5134a9",
   "metadata": {},
   "outputs": [],
   "source": [
    "nf['year'] = nf.year.fillna(0)"
   ]
  },
  {
   "cell_type": "code",
   "execution_count": 13,
   "id": "3ff95c6f-fa48-4c96-8fda-6605eefe76ba",
   "metadata": {},
   "outputs": [],
   "source": [
    "nf['year'] = pd.to_datetime(nf['year'])\n",
    "nf['year'] = nf['year'].dt.year"
   ]
  },
  {
   "cell_type": "code",
   "execution_count": 14,
   "id": "e8c73bdb-776e-4d0f-87b6-dc564bb64be1",
   "metadata": {},
   "outputs": [],
   "source": [
    "nf['duration_copy'] = nf['duration'].str.strip(' min').astype(float)"
   ]
  },
  {
   "cell_type": "code",
   "execution_count": 15,
   "id": "8188e558-e098-4a52-b98a-afca868267c6",
   "metadata": {},
   "outputs": [],
   "source": [
    "nf['duration_copy'] = nf['duration_copy'].fillna(0)"
   ]
  },
  {
   "cell_type": "code",
   "execution_count": 16,
   "id": "1613281e-bb5d-4d19-9c9f-31278aa7aec3",
   "metadata": {},
   "outputs": [],
   "source": [
    "nf['votes'] = nf.votes.fillna(0)"
   ]
  },
  {
   "cell_type": "code",
   "execution_count": 17,
   "id": "b3d9c337-0028-429b-a0fc-60a0f904fb9a",
   "metadata": {},
   "outputs": [],
   "source": [
    "nf['votes'] = nf.votes.str.replace(',','').astype(float)"
   ]
  },
  {
   "cell_type": "code",
   "execution_count": 18,
   "id": "09c4d166-fc4c-45c1-95fe-058b3d0b5635",
   "metadata": {},
   "outputs": [],
   "source": [
    "nf['genre'] = nf['genre'].fillna('Unknown')"
   ]
  },
  {
   "cell_type": "code",
   "execution_count": 19,
   "id": "cb22a02c-098e-46c9-bd56-5cb5f6c95891",
   "metadata": {},
   "outputs": [
    {
     "name": "stdout",
     "output_type": "stream",
     "text": [
      "<class 'pandas.core.frame.DataFrame'>\n",
      "RangeIndex: 9957 entries, 0 to 9956\n",
      "Data columns (total 9 columns):\n",
      " #   Column         Non-Null Count  Dtype  \n",
      "---  ------         --------------  -----  \n",
      " 0   title          9957 non-null   object \n",
      " 1   year           9957 non-null   int64  \n",
      " 2   certificate    6504 non-null   object \n",
      " 3   duration       7921 non-null   object \n",
      " 4   genre          9957 non-null   object \n",
      " 5   rating         8784 non-null   float64\n",
      " 6   stars          9957 non-null   object \n",
      " 7   votes          8784 non-null   float64\n",
      " 8   duration_copy  9957 non-null   float64\n",
      "dtypes: float64(3), int64(1), object(5)\n",
      "memory usage: 700.2+ KB\n"
     ]
    }
   ],
   "source": [
    "nf.info()"
   ]
  },
  {
   "cell_type": "markdown",
   "id": "94b22317-04b9-4e68-b174-0b4b6eb06ef0",
   "metadata": {},
   "source": [
    "## 2. Descriptive analysis"
   ]
  },
  {
   "cell_type": "markdown",
   "id": "695dbbda-2f24-4564-853c-1c64b6d8fff4",
   "metadata": {},
   "source": [
    "#### Highest rated movie"
   ]
  },
  {
   "cell_type": "code",
   "execution_count": 20,
   "id": "2eb8a481-5768-44b2-8a88-d8efe1e7936f",
   "metadata": {},
   "outputs": [
    {
     "data": {
      "text/html": [
       "<div>\n",
       "<style scoped>\n",
       "    .dataframe tbody tr th:only-of-type {\n",
       "        vertical-align: middle;\n",
       "    }\n",
       "\n",
       "    .dataframe tbody tr th {\n",
       "        vertical-align: top;\n",
       "    }\n",
       "\n",
       "    .dataframe thead th {\n",
       "        text-align: right;\n",
       "    }\n",
       "</style>\n",
       "<table border=\"1\" class=\"dataframe\">\n",
       "  <thead>\n",
       "    <tr style=\"text-align: right;\">\n",
       "      <th></th>\n",
       "      <th>title</th>\n",
       "      <th>year</th>\n",
       "      <th>certificate</th>\n",
       "      <th>duration</th>\n",
       "      <th>genre</th>\n",
       "      <th>rating</th>\n",
       "      <th>stars</th>\n",
       "      <th>votes</th>\n",
       "      <th>duration_copy</th>\n",
       "    </tr>\n",
       "  </thead>\n",
       "  <tbody>\n",
       "    <tr>\n",
       "      <th>9444</th>\n",
       "      <td>BoJack Horseman</td>\n",
       "      <td>2014</td>\n",
       "      <td>TV-MA</td>\n",
       "      <td>26 min</td>\n",
       "      <td>Animation, Comedy, Drama</td>\n",
       "      <td>9.9</td>\n",
       "      <td>['Amy Winfrey', '| ', '    Stars:', 'Will Arne...</td>\n",
       "      <td>16066.0</td>\n",
       "      <td>26.0</td>\n",
       "    </tr>\n",
       "  </tbody>\n",
       "</table>\n",
       "</div>"
      ],
      "text/plain": [
       "                title  year certificate duration                     genre  \\\n",
       "9444  BoJack Horseman  2014       TV-MA   26 min  Animation, Comedy, Drama   \n",
       "\n",
       "      rating                                              stars    votes  \\\n",
       "9444     9.9  ['Amy Winfrey', '| ', '    Stars:', 'Will Arne...  16066.0   \n",
       "\n",
       "      duration_copy  \n",
       "9444           26.0  "
      ]
     },
     "execution_count": 20,
     "metadata": {},
     "output_type": "execute_result"
    }
   ],
   "source": [
    "nf.nlargest(1, 'rating', keep='all')"
   ]
  },
  {
   "cell_type": "markdown",
   "id": "7f902753-d540-4dc1-b0c6-8306f1e4f70e",
   "metadata": {},
   "source": [
    "#### Longest duration movie with highest rating"
   ]
  },
  {
   "cell_type": "code",
   "execution_count": 21,
   "id": "d868e9ee-e92b-4a0a-acf3-7422c9f78b71",
   "metadata": {},
   "outputs": [
    {
     "data": {
      "text/html": [
       "<div>\n",
       "<style scoped>\n",
       "    .dataframe tbody tr th:only-of-type {\n",
       "        vertical-align: middle;\n",
       "    }\n",
       "\n",
       "    .dataframe tbody tr th {\n",
       "        vertical-align: top;\n",
       "    }\n",
       "\n",
       "    .dataframe thead th {\n",
       "        text-align: right;\n",
       "    }\n",
       "</style>\n",
       "<table border=\"1\" class=\"dataframe\">\n",
       "  <thead>\n",
       "    <tr style=\"text-align: right;\">\n",
       "      <th></th>\n",
       "      <th>title</th>\n",
       "      <th>year</th>\n",
       "      <th>certificate</th>\n",
       "      <th>duration</th>\n",
       "      <th>genre</th>\n",
       "      <th>rating</th>\n",
       "      <th>stars</th>\n",
       "      <th>votes</th>\n",
       "      <th>duration_copy</th>\n",
       "    </tr>\n",
       "  </thead>\n",
       "  <tbody>\n",
       "    <tr>\n",
       "      <th>943</th>\n",
       "      <td>The Vietnam War</td>\n",
       "      <td>2017</td>\n",
       "      <td>TV-MA</td>\n",
       "      <td>990 min</td>\n",
       "      <td>Documentary, History, War</td>\n",
       "      <td>9.1</td>\n",
       "      <td>['Peter Coyote, ', 'Huy Duc, ', 'James Willban...</td>\n",
       "      <td>24632.0</td>\n",
       "      <td>990.0</td>\n",
       "    </tr>\n",
       "    <tr>\n",
       "      <th>2116</th>\n",
       "      <td>The Time in Between</td>\n",
       "      <td>2013</td>\n",
       "      <td>NaN</td>\n",
       "      <td>853 min</td>\n",
       "      <td>Adventure, Drama, History</td>\n",
       "      <td>8.3</td>\n",
       "      <td>['Adriana Ugarte, ', 'Mari Carmen Sánchez, ', ...</td>\n",
       "      <td>4258.0</td>\n",
       "      <td>853.0</td>\n",
       "    </tr>\n",
       "    <tr>\n",
       "      <th>989</th>\n",
       "      <td>The Staircase</td>\n",
       "      <td>2004</td>\n",
       "      <td>TV-MA</td>\n",
       "      <td>629 min</td>\n",
       "      <td>Documentary, Crime, Drama</td>\n",
       "      <td>7.8</td>\n",
       "      <td>['Michael Peterson, ', 'David Rudolf, ', 'Ron ...</td>\n",
       "      <td>24588.0</td>\n",
       "      <td>629.0</td>\n",
       "    </tr>\n",
       "  </tbody>\n",
       "</table>\n",
       "</div>"
      ],
      "text/plain": [
       "                    title  year certificate duration  \\\n",
       "943       The Vietnam War  2017       TV-MA  990 min   \n",
       "2116  The Time in Between  2013         NaN  853 min   \n",
       "989         The Staircase  2004       TV-MA  629 min   \n",
       "\n",
       "                          genre  rating  \\\n",
       "943   Documentary, History, War     9.1   \n",
       "2116  Adventure, Drama, History     8.3   \n",
       "989   Documentary, Crime, Drama     7.8   \n",
       "\n",
       "                                                  stars    votes  \\\n",
       "943   ['Peter Coyote, ', 'Huy Duc, ', 'James Willban...  24632.0   \n",
       "2116  ['Adriana Ugarte, ', 'Mari Carmen Sánchez, ', ...   4258.0   \n",
       "989   ['Michael Peterson, ', 'David Rudolf, ', 'Ron ...  24588.0   \n",
       "\n",
       "      duration_copy  \n",
       "943           990.0  \n",
       "2116          853.0  \n",
       "989           629.0  "
      ]
     },
     "execution_count": 21,
     "metadata": {},
     "output_type": "execute_result"
    }
   ],
   "source": [
    "nf.nlargest(3, columns=['duration_copy', 'rating'])"
   ]
  },
  {
   "cell_type": "markdown",
   "id": "0c4c7abb-8727-455b-afb4-fd6a52c03f8b",
   "metadata": {},
   "source": [
    "#### High rated movie with most votes"
   ]
  },
  {
   "cell_type": "code",
   "execution_count": 22,
   "id": "d018c01b-5ee0-458e-b38d-6a8c355857c6",
   "metadata": {},
   "outputs": [
    {
     "data": {
      "text/html": [
       "<div>\n",
       "<style scoped>\n",
       "    .dataframe tbody tr th:only-of-type {\n",
       "        vertical-align: middle;\n",
       "    }\n",
       "\n",
       "    .dataframe tbody tr th {\n",
       "        vertical-align: top;\n",
       "    }\n",
       "\n",
       "    .dataframe thead th {\n",
       "        text-align: right;\n",
       "    }\n",
       "</style>\n",
       "<table border=\"1\" class=\"dataframe\">\n",
       "  <thead>\n",
       "    <tr style=\"text-align: right;\">\n",
       "      <th></th>\n",
       "      <th>title</th>\n",
       "      <th>year</th>\n",
       "      <th>certificate</th>\n",
       "      <th>duration</th>\n",
       "      <th>genre</th>\n",
       "      <th>rating</th>\n",
       "      <th>stars</th>\n",
       "      <th>votes</th>\n",
       "      <th>duration_copy</th>\n",
       "    </tr>\n",
       "  </thead>\n",
       "  <tbody>\n",
       "    <tr>\n",
       "      <th>9444</th>\n",
       "      <td>BoJack Horseman</td>\n",
       "      <td>2014</td>\n",
       "      <td>TV-MA</td>\n",
       "      <td>26 min</td>\n",
       "      <td>Animation, Comedy, Drama</td>\n",
       "      <td>9.9</td>\n",
       "      <td>['Amy Winfrey', '| ', '    Stars:', 'Will Arne...</td>\n",
       "      <td>16066.0</td>\n",
       "      <td>26.0</td>\n",
       "    </tr>\n",
       "    <tr>\n",
       "      <th>9578</th>\n",
       "      <td>Stranger Things</td>\n",
       "      <td>2016</td>\n",
       "      <td>TV-14</td>\n",
       "      <td>98 min</td>\n",
       "      <td>Drama, Fantasy, Horror</td>\n",
       "      <td>9.6</td>\n",
       "      <td>['Matt Duffer, ', 'Ross Duffer', '| ', '    St...</td>\n",
       "      <td>36276.0</td>\n",
       "      <td>98.0</td>\n",
       "    </tr>\n",
       "    <tr>\n",
       "      <th>8259</th>\n",
       "      <td>Dexter</td>\n",
       "      <td>2006</td>\n",
       "      <td>TV-MA</td>\n",
       "      <td>56 min</td>\n",
       "      <td>Crime, Drama, Mystery</td>\n",
       "      <td>9.6</td>\n",
       "      <td>['Michael Cuesta', '| ', '    Stars:', 'Michae...</td>\n",
       "      <td>10604.0</td>\n",
       "      <td>56.0</td>\n",
       "    </tr>\n",
       "  </tbody>\n",
       "</table>\n",
       "</div>"
      ],
      "text/plain": [
       "                title  year certificate duration                     genre  \\\n",
       "9444  BoJack Horseman  2014       TV-MA   26 min  Animation, Comedy, Drama   \n",
       "9578  Stranger Things  2016       TV-14   98 min    Drama, Fantasy, Horror   \n",
       "8259           Dexter  2006       TV-MA   56 min     Crime, Drama, Mystery   \n",
       "\n",
       "      rating                                              stars    votes  \\\n",
       "9444     9.9  ['Amy Winfrey', '| ', '    Stars:', 'Will Arne...  16066.0   \n",
       "9578     9.6  ['Matt Duffer, ', 'Ross Duffer', '| ', '    St...  36276.0   \n",
       "8259     9.6  ['Michael Cuesta', '| ', '    Stars:', 'Michae...  10604.0   \n",
       "\n",
       "      duration_copy  \n",
       "9444           26.0  \n",
       "9578           98.0  \n",
       "8259           56.0  "
      ]
     },
     "execution_count": 22,
     "metadata": {},
     "output_type": "execute_result"
    }
   ],
   "source": [
    "nf.nlargest(3, columns=['rating', 'votes'])"
   ]
  },
  {
   "cell_type": "markdown",
   "id": "63ce8718-4664-4d7b-9eb9-a6f7b5b34d30",
   "metadata": {},
   "source": [
    "#### Highest rated Comedy movie of year 2022"
   ]
  },
  {
   "cell_type": "code",
   "execution_count": 23,
   "id": "06248410-a864-42a0-adac-a0942cd21871",
   "metadata": {},
   "outputs": [
    {
     "data": {
      "text/html": [
       "<div>\n",
       "<style scoped>\n",
       "    .dataframe tbody tr th:only-of-type {\n",
       "        vertical-align: middle;\n",
       "    }\n",
       "\n",
       "    .dataframe tbody tr th {\n",
       "        vertical-align: top;\n",
       "    }\n",
       "\n",
       "    .dataframe thead th {\n",
       "        text-align: right;\n",
       "    }\n",
       "</style>\n",
       "<table border=\"1\" class=\"dataframe\">\n",
       "  <thead>\n",
       "    <tr style=\"text-align: right;\">\n",
       "      <th></th>\n",
       "      <th>title</th>\n",
       "      <th>year</th>\n",
       "      <th>certificate</th>\n",
       "      <th>duration</th>\n",
       "      <th>genre</th>\n",
       "      <th>rating</th>\n",
       "      <th>stars</th>\n",
       "      <th>votes</th>\n",
       "      <th>duration_copy</th>\n",
       "    </tr>\n",
       "  </thead>\n",
       "  <tbody>\n",
       "    <tr>\n",
       "      <th>4680</th>\n",
       "      <td>Sea of Love</td>\n",
       "      <td>2022</td>\n",
       "      <td>TV-Y</td>\n",
       "      <td>10 min</td>\n",
       "      <td>Animation, Adventure, Comedy</td>\n",
       "      <td>8.8</td>\n",
       "      <td>['Kelly B. Jones, ', 'Anchasa Bhurichayawarodo...</td>\n",
       "      <td>40.0</td>\n",
       "      <td>10.0</td>\n",
       "    </tr>\n",
       "    <tr>\n",
       "      <th>331</th>\n",
       "      <td>Love Between Fairy and Devil</td>\n",
       "      <td>2022</td>\n",
       "      <td>TV-PG</td>\n",
       "      <td>40 min</td>\n",
       "      <td>Comedy, Fantasy, Romance</td>\n",
       "      <td>8.6</td>\n",
       "      <td>['Dylan Wang, ', 'Esther Yu, ', 'Haiqiao Xu, '...</td>\n",
       "      <td>365.0</td>\n",
       "      <td>40.0</td>\n",
       "    </tr>\n",
       "    <tr>\n",
       "      <th>349</th>\n",
       "      <td>SPY×FAMILY</td>\n",
       "      <td>2022</td>\n",
       "      <td>TV-14</td>\n",
       "      <td>24 min</td>\n",
       "      <td>Animation, Action, Comedy</td>\n",
       "      <td>8.6</td>\n",
       "      <td>['Takuya Eguchi, ', 'Atsumi Tanezaki, ', 'Saor...</td>\n",
       "      <td>19612.0</td>\n",
       "      <td>24.0</td>\n",
       "    </tr>\n",
       "  </tbody>\n",
       "</table>\n",
       "</div>"
      ],
      "text/plain": [
       "                             title  year certificate duration  \\\n",
       "4680                   Sea of Love  2022        TV-Y   10 min   \n",
       "331   Love Between Fairy and Devil  2022       TV-PG   40 min   \n",
       "349                     SPY×FAMILY  2022       TV-14   24 min   \n",
       "\n",
       "                             genre  rating  \\\n",
       "4680  Animation, Adventure, Comedy     8.8   \n",
       "331       Comedy, Fantasy, Romance     8.6   \n",
       "349      Animation, Action, Comedy     8.6   \n",
       "\n",
       "                                                  stars    votes  \\\n",
       "4680  ['Kelly B. Jones, ', 'Anchasa Bhurichayawarodo...     40.0   \n",
       "331   ['Dylan Wang, ', 'Esther Yu, ', 'Haiqiao Xu, '...    365.0   \n",
       "349   ['Takuya Eguchi, ', 'Atsumi Tanezaki, ', 'Saor...  19612.0   \n",
       "\n",
       "      duration_copy  \n",
       "4680           10.0  \n",
       "331            40.0  \n",
       "349            24.0  "
      ]
     },
     "execution_count": 23,
     "metadata": {},
     "output_type": "execute_result"
    }
   ],
   "source": [
    "nf[(nf['genre'].str.contains('Comedy')) & (nf['year'] == 2022)].nlargest(3, 'rating')"
   ]
  },
  {
   "cell_type": "markdown",
   "id": "651214db-9820-4445-bdc3-82b3a5a9e513",
   "metadata": {},
   "source": [
    "#### Most repeated genre"
   ]
  },
  {
   "cell_type": "code",
   "execution_count": 24,
   "id": "99f2b9c3-2d67-45ef-a2f5-077c24d8188f",
   "metadata": {},
   "outputs": [],
   "source": [
    "z = []\n",
    "def find_genre(nf):\n",
    "    for x in nf['genre']:\n",
    "        z.append(x)\n",
    "    return max(set(z), key = z.count)"
   ]
  },
  {
   "cell_type": "markdown",
   "id": "3bb2b8d2-90a4-4563-98b3-8aa8e7b21348",
   "metadata": {},
   "source": [
    "#### Movies with maximum certificate"
   ]
  },
  {
   "cell_type": "code",
   "execution_count": 25,
   "id": "4f8e98fe-d318-49cb-a48a-17461b139682",
   "metadata": {},
   "outputs": [
    {
     "data": {
      "text/plain": [
       "TV-MA    2520\n",
       "Name: certificate, dtype: int64"
      ]
     },
     "execution_count": 25,
     "metadata": {},
     "output_type": "execute_result"
    }
   ],
   "source": [
    "nf['certificate'].value_counts().head(1)"
   ]
  },
  {
   "cell_type": "code",
   "execution_count": 26,
   "id": "b06237ac-88d3-4250-96ca-1d8abcaf7663",
   "metadata": {},
   "outputs": [
    {
     "data": {
      "text/plain": [
       "<AxesSubplot:xlabel='rating', ylabel='year'>"
      ]
     },
     "execution_count": 26,
     "metadata": {},
     "output_type": "execute_result"
    },
    {
     "data": {
      "image/png": "[encoded data removed]",
      "text/plain": [
       "<Figure size 432x288 with 1 Axes>"
      ]
     },
     "metadata": {
      "needs_background": "light"
     },
     "output_type": "display_data"
    }
   ],
   "source": [
    "sns.scatterplot(data = nf, x = 'rating', y = 'year')"
   ]
  },
  {
   "cell_type": "code",
   "execution_count": 27,
   "id": "e1c6dca2-0847-48a9-b9ed-a8832b23170a",
   "metadata": {},
   "outputs": [
    {
     "data": {
      "text/plain": [
       "<AxesSubplot:xlabel='certificate', ylabel='votes'>"
      ]
     },
     "execution_count": 27,
     "metadata": {},
     "output_type": "execute_result"
    },
    {
     "data": {
      "image/png": "[encoded data removed]",
      "text/plain": [
       "<Figure size 432x288 with 1 Axes>"
      ]
     },
     "metadata": {
      "needs_background": "light"
     },
     "output_type": "display_data"
    }
   ],
   "source": [
    "sns.lineplot(data = nf, x = 'certificate', y = 'votes', errorbar=None)"
   ]
  }
 ],
 "metadata": {
  "kernelspec": {
   "display_name": "Python 3",
   "language": "python",
   "name": "python3"
  },
  "language_info": {
   "codemirror_mode": {
    "name": "ipython",
    "version": 3
   },
   "file_extension": ".py",
   "mimetype": "text/x-python",
   "name": "python",
   "nbconvert_exporter": "python",
   "pygments_lexer": "ipython3",
   "version": "3.9.2"
  }
 },
 "nbformat": 4,
 "nbformat_minor": 5
}
