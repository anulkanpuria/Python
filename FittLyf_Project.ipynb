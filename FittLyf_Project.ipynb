{
 "cells": [
  {
   "cell_type": "markdown",
   "id": "6940ef96-f397-46f0-b1a5-890c6068e489",
   "metadata": {},
   "source": [
    "# Fyttlyf Data Science Team Test\n",
    "### Import libraries and Data"
   ]
  },
  {
   "cell_type": "code",
   "execution_count": 1,
   "id": "af3f676c-f5f2-4bf1-8a64-6014b4adfa49",
   "metadata": {},
   "outputs": [],
   "source": [
    "import pandas as pd\n",
    "import matplotlib.pyplot as plt\n",
    "from sklearn.linear_model import LinearRegression\n",
    "\n",
    "df = pd.read_csv('DS.csv')\n",
    "data = df.copy()"
   ]
  },
  {
   "cell_type": "markdown",
   "id": "7c81cdfb-6259-458a-9549-cb1b247fe09a",
   "metadata": {},
   "source": [
    "### Part 0: Reading the data"
   ]
  },
  {
   "cell_type": "code",
   "execution_count": 2,
   "id": "2b018a21-2db1-4d3f-8421-131cba46d244",
   "metadata": {},
   "outputs": [
    {
     "data": {
      "text/plain": [
       "(2160, 10)"
      ]
     },
     "execution_count": 2,
     "metadata": {},
     "output_type": "execute_result"
    }
   ],
   "source": [
    "df.shape"
   ]
  },
  {
   "cell_type": "code",
   "execution_count": 3,
   "id": "f4a3a60b-40a0-4ea1-b438-f7490b351032",
   "metadata": {},
   "outputs": [
    {
     "name": "stdout",
     "output_type": "stream",
     "text": [
      "<class 'pandas.core.frame.DataFrame'>\n",
      "RangeIndex: 2160 entries, 0 to 2159\n",
      "Data columns (total 10 columns):\n",
      " #   Column                                                                                                                     Non-Null Count  Dtype  \n",
      "---  ------                                                                                                                     --------------  -----  \n",
      " 0   Year                                                                                                                       2160 non-null   int64  \n",
      " 1   Month                                                                                                                      2160 non-null   object \n",
      " 2   MobileWeb_or_Web                                                                                                           2160 non-null   object \n",
      " 3   Type_of_Customers?                                                                                                         2160 non-null   object \n",
      " 4   Where_Are_They_comming_from?                                                                                               2160 non-null   object \n",
      " 5   Which_Place_in_India?                                                                                                      2160 non-null   object \n",
      " 6   How_many_Landed_on_our_Page?                                                                                               1080 non-null   float64\n",
      " 7   How_many_Landed_on_the_our_Page_and_clicked_on_a_button?                                                                   1080 non-null   float64\n",
      " 8   How_many_Landed_on_the_our_Page_and_clicked_on_a_button_and_started_filling_the_Form?                                      2160 non-null   int64  \n",
      " 9   How_many_Landed_on_the_our_Page_and_clicked_on_a_button_and_started_filling_the_Form_and_Completed_and_submited_the_form?  2160 non-null   int64  \n",
      "dtypes: float64(2), int64(3), object(5)\n",
      "memory usage: 168.9+ KB\n"
     ]
    }
   ],
   "source": [
    "df.info()"
   ]
  },
  {
   "cell_type": "code",
   "execution_count": 4,
   "id": "e43d260f-f810-4788-ae62-0def8c962f50",
   "metadata": {},
   "outputs": [
    {
     "data": {
      "text/html": [
       "<div>\n",
       "<style scoped>\n",
       "    .dataframe tbody tr th:only-of-type {\n",
       "        vertical-align: middle;\n",
       "    }\n",
       "\n",
       "    .dataframe tbody tr th {\n",
       "        vertical-align: top;\n",
       "    }\n",
       "\n",
       "    .dataframe thead th {\n",
       "        text-align: right;\n",
       "    }\n",
       "</style>\n",
       "<table border=\"1\" class=\"dataframe\">\n",
       "  <thead>\n",
       "    <tr style=\"text-align: right;\">\n",
       "      <th></th>\n",
       "      <th>Year</th>\n",
       "      <th>Month</th>\n",
       "      <th>MobileWeb_or_Web</th>\n",
       "      <th>Type_of_Customers?</th>\n",
       "      <th>Where_Are_They_comming_from?</th>\n",
       "      <th>Which_Place_in_India?</th>\n",
       "      <th>How_many_Landed_on_our_Page?</th>\n",
       "      <th>How_many_Landed_on_the_our_Page_and_clicked_on_a_button?</th>\n",
       "      <th>How_many_Landed_on_the_our_Page_and_clicked_on_a_button_and_started_filling_the_Form?</th>\n",
       "      <th>How_many_Landed_on_the_our_Page_and_clicked_on_a_button_and_started_filling_the_Form_and_Completed_and_submited_the_form?</th>\n",
       "    </tr>\n",
       "  </thead>\n",
       "  <tbody>\n",
       "    <tr>\n",
       "      <th>count</th>\n",
       "      <td>2160.000000</td>\n",
       "      <td>2160</td>\n",
       "      <td>2160</td>\n",
       "      <td>2160</td>\n",
       "      <td>2160</td>\n",
       "      <td>2160</td>\n",
       "      <td>1.080000e+03</td>\n",
       "      <td>1.080000e+03</td>\n",
       "      <td>2.160000e+03</td>\n",
       "      <td>2.160000e+03</td>\n",
       "    </tr>\n",
       "    <tr>\n",
       "      <th>unique</th>\n",
       "      <td>NaN</td>\n",
       "      <td>12</td>\n",
       "      <td>2</td>\n",
       "      <td>2</td>\n",
       "      <td>3</td>\n",
       "      <td>5</td>\n",
       "      <td>NaN</td>\n",
       "      <td>NaN</td>\n",
       "      <td>NaN</td>\n",
       "      <td>NaN</td>\n",
       "    </tr>\n",
       "    <tr>\n",
       "      <th>top</th>\n",
       "      <td>NaN</td>\n",
       "      <td>Jan</td>\n",
       "      <td>Desktop_Website</td>\n",
       "      <td>Existing_Customer</td>\n",
       "      <td>Came_From_Google</td>\n",
       "      <td>Bangalore</td>\n",
       "      <td>NaN</td>\n",
       "      <td>NaN</td>\n",
       "      <td>NaN</td>\n",
       "      <td>NaN</td>\n",
       "    </tr>\n",
       "    <tr>\n",
       "      <th>freq</th>\n",
       "      <td>NaN</td>\n",
       "      <td>180</td>\n",
       "      <td>1080</td>\n",
       "      <td>1080</td>\n",
       "      <td>720</td>\n",
       "      <td>432</td>\n",
       "      <td>NaN</td>\n",
       "      <td>NaN</td>\n",
       "      <td>NaN</td>\n",
       "      <td>NaN</td>\n",
       "    </tr>\n",
       "    <tr>\n",
       "      <th>mean</th>\n",
       "      <td>2020.000000</td>\n",
       "      <td>NaN</td>\n",
       "      <td>NaN</td>\n",
       "      <td>NaN</td>\n",
       "      <td>NaN</td>\n",
       "      <td>NaN</td>\n",
       "      <td>7.844949e+05</td>\n",
       "      <td>3.584563e+05</td>\n",
       "      <td>1.510725e+05</td>\n",
       "      <td>5.922129e+04</td>\n",
       "    </tr>\n",
       "    <tr>\n",
       "      <th>std</th>\n",
       "      <td>0.816686</td>\n",
       "      <td>NaN</td>\n",
       "      <td>NaN</td>\n",
       "      <td>NaN</td>\n",
       "      <td>NaN</td>\n",
       "      <td>NaN</td>\n",
       "      <td>1.232518e+06</td>\n",
       "      <td>4.981331e+05</td>\n",
       "      <td>2.353538e+05</td>\n",
       "      <td>8.646564e+04</td>\n",
       "    </tr>\n",
       "    <tr>\n",
       "      <th>min</th>\n",
       "      <td>2019.000000</td>\n",
       "      <td>NaN</td>\n",
       "      <td>NaN</td>\n",
       "      <td>NaN</td>\n",
       "      <td>NaN</td>\n",
       "      <td>NaN</td>\n",
       "      <td>2.456700e+04</td>\n",
       "      <td>8.425000e+03</td>\n",
       "      <td>3.761000e+03</td>\n",
       "      <td>7.660000e+02</td>\n",
       "    </tr>\n",
       "    <tr>\n",
       "      <th>25%</th>\n",
       "      <td>2019.000000</td>\n",
       "      <td>NaN</td>\n",
       "      <td>NaN</td>\n",
       "      <td>NaN</td>\n",
       "      <td>NaN</td>\n",
       "      <td>NaN</td>\n",
       "      <td>1.406165e+05</td>\n",
       "      <td>8.060375e+04</td>\n",
       "      <td>3.360800e+04</td>\n",
       "      <td>1.157725e+04</td>\n",
       "    </tr>\n",
       "    <tr>\n",
       "      <th>50%</th>\n",
       "      <td>2020.000000</td>\n",
       "      <td>NaN</td>\n",
       "      <td>NaN</td>\n",
       "      <td>NaN</td>\n",
       "      <td>NaN</td>\n",
       "      <td>NaN</td>\n",
       "      <td>3.818205e+05</td>\n",
       "      <td>1.731775e+05</td>\n",
       "      <td>7.064950e+04</td>\n",
       "      <td>2.700450e+04</td>\n",
       "    </tr>\n",
       "    <tr>\n",
       "      <th>75%</th>\n",
       "      <td>2021.000000</td>\n",
       "      <td>NaN</td>\n",
       "      <td>NaN</td>\n",
       "      <td>NaN</td>\n",
       "      <td>NaN</td>\n",
       "      <td>NaN</td>\n",
       "      <td>8.196922e+05</td>\n",
       "      <td>3.948560e+05</td>\n",
       "      <td>1.659590e+05</td>\n",
       "      <td>7.185350e+04</td>\n",
       "    </tr>\n",
       "    <tr>\n",
       "      <th>max</th>\n",
       "      <td>2021.000000</td>\n",
       "      <td>NaN</td>\n",
       "      <td>NaN</td>\n",
       "      <td>NaN</td>\n",
       "      <td>NaN</td>\n",
       "      <td>NaN</td>\n",
       "      <td>1.127413e+07</td>\n",
       "      <td>4.079301e+06</td>\n",
       "      <td>3.022858e+06</td>\n",
       "      <td>1.251258e+06</td>\n",
       "    </tr>\n",
       "  </tbody>\n",
       "</table>\n",
       "</div>"
      ],
      "text/plain": [
       "               Year Month MobileWeb_or_Web Type_of_Customers?  \\\n",
       "count   2160.000000  2160             2160               2160   \n",
       "unique          NaN    12                2                  2   \n",
       "top             NaN   Jan  Desktop_Website  Existing_Customer   \n",
       "freq            NaN   180             1080               1080   \n",
       "mean    2020.000000   NaN              NaN                NaN   \n",
       "std        0.816686   NaN              NaN                NaN   \n",
       "min     2019.000000   NaN              NaN                NaN   \n",
       "25%     2019.000000   NaN              NaN                NaN   \n",
       "50%     2020.000000   NaN              NaN                NaN   \n",
       "75%     2021.000000   NaN              NaN                NaN   \n",
       "max     2021.000000   NaN              NaN                NaN   \n",
       "\n",
       "       Where_Are_They_comming_from? Which_Place_in_India?  \\\n",
       "count                          2160                  2160   \n",
       "unique                            3                     5   \n",
       "top                Came_From_Google             Bangalore   \n",
       "freq                            720                   432   \n",
       "mean                            NaN                   NaN   \n",
       "std                             NaN                   NaN   \n",
       "min                             NaN                   NaN   \n",
       "25%                             NaN                   NaN   \n",
       "50%                             NaN                   NaN   \n",
       "75%                             NaN                   NaN   \n",
       "max                             NaN                   NaN   \n",
       "\n",
       "        How_many_Landed_on_our_Page?  \\\n",
       "count                   1.080000e+03   \n",
       "unique                           NaN   \n",
       "top                              NaN   \n",
       "freq                             NaN   \n",
       "mean                    7.844949e+05   \n",
       "std                     1.232518e+06   \n",
       "min                     2.456700e+04   \n",
       "25%                     1.406165e+05   \n",
       "50%                     3.818205e+05   \n",
       "75%                     8.196922e+05   \n",
       "max                     1.127413e+07   \n",
       "\n",
       "        How_many_Landed_on_the_our_Page_and_clicked_on_a_button?  \\\n",
       "count                                        1.080000e+03          \n",
       "unique                                                NaN          \n",
       "top                                                   NaN          \n",
       "freq                                                  NaN          \n",
       "mean                                         3.584563e+05          \n",
       "std                                          4.981331e+05          \n",
       "min                                          8.425000e+03          \n",
       "25%                                          8.060375e+04          \n",
       "50%                                          1.731775e+05          \n",
       "75%                                          3.948560e+05          \n",
       "max                                          4.079301e+06          \n",
       "\n",
       "        How_many_Landed_on_the_our_Page_and_clicked_on_a_button_and_started_filling_the_Form?  \\\n",
       "count                                        2.160000e+03                                       \n",
       "unique                                                NaN                                       \n",
       "top                                                   NaN                                       \n",
       "freq                                                  NaN                                       \n",
       "mean                                         1.510725e+05                                       \n",
       "std                                          2.353538e+05                                       \n",
       "min                                          3.761000e+03                                       \n",
       "25%                                          3.360800e+04                                       \n",
       "50%                                          7.064950e+04                                       \n",
       "75%                                          1.659590e+05                                       \n",
       "max                                          3.022858e+06                                       \n",
       "\n",
       "        How_many_Landed_on_the_our_Page_and_clicked_on_a_button_and_started_filling_the_Form_and_Completed_and_submited_the_form?  \n",
       "count                                        2.160000e+03                                                                          \n",
       "unique                                                NaN                                                                          \n",
       "top                                                   NaN                                                                          \n",
       "freq                                                  NaN                                                                          \n",
       "mean                                         5.922129e+04                                                                          \n",
       "std                                          8.646564e+04                                                                          \n",
       "min                                          7.660000e+02                                                                          \n",
       "25%                                          1.157725e+04                                                                          \n",
       "50%                                          2.700450e+04                                                                          \n",
       "75%                                          7.185350e+04                                                                          \n",
       "max                                          1.251258e+06                                                                          "
      ]
     },
     "execution_count": 4,
     "metadata": {},
     "output_type": "execute_result"
    }
   ],
   "source": [
    "df.describe(include='all')"
   ]
  },
  {
   "cell_type": "code",
   "execution_count": 5,
   "id": "abc00102-ad55-4000-a3e7-b498a5ee655c",
   "metadata": {},
   "outputs": [
    {
     "data": {
      "text/plain": [
       "Year                                                                                                                           int64\n",
       "Month                                                                                                                         object\n",
       "MobileWeb_or_Web                                                                                                              object\n",
       "Type_of_Customers?                                                                                                            object\n",
       "Where_Are_They_comming_from?                                                                                                  object\n",
       "Which_Place_in_India?                                                                                                         object\n",
       "How_many_Landed_on_our_Page?                                                                                                 float64\n",
       "How_many_Landed_on_the_our_Page_and_clicked_on_a_button?                                                                     float64\n",
       "How_many_Landed_on_the_our_Page_and_clicked_on_a_button_and_started_filling_the_Form?                                          int64\n",
       "How_many_Landed_on_the_our_Page_and_clicked_on_a_button_and_started_filling_the_Form_and_Completed_and_submited_the_form?      int64\n",
       "dtype: object"
      ]
     },
     "execution_count": 5,
     "metadata": {},
     "output_type": "execute_result"
    }
   ],
   "source": [
    "df.dtypes"
   ]
  },
  {
   "cell_type": "markdown",
   "id": "a2598fdf-d468-4f28-96d1-9a87625eb4fd",
   "metadata": {},
   "source": [
    "### Part 1: Data cleaning"
   ]
  },
  {
   "cell_type": "code",
   "execution_count": 6,
   "id": "134508ae-dc9d-4456-aa40-48fb2218ea5c",
   "metadata": {},
   "outputs": [],
   "source": [
    "def data_cleaning(data):\n",
    "    #Replacing NA with 0\n",
    "    data = data.fillna(0)\n",
    "    \n",
    "    #Replacing Month names with 1,2,3...12\n",
    "    mon = data['Month'].unique().tolist()\n",
    "    num = [x for x in range(1,13)]\n",
    "    data = data.replace(to_replace=mon, value=num)\n",
    "    \n",
    "    #Replacing String in Dataframe\n",
    "    data = data.replace(['Came_From_Google', 'Landed_on_the_page_Directly'], ['Google', 'Direct_traffic'])\n",
    "    return data\n",
    "\n",
    "data = data_cleaning(data)"
   ]
  },
  {
   "cell_type": "markdown",
   "id": "50f0bb5d-2041-4ead-858a-33569d8fb97a",
   "metadata": {},
   "source": [
    "### Part 2: Descriptive statistics"
   ]
  },
  {
   "cell_type": "code",
   "execution_count": 7,
   "id": "3d1b0593-be2e-401c-95e4-59b01eefd265",
   "metadata": {},
   "outputs": [
    {
     "name": "stdout",
     "output_type": "stream",
     "text": [
      "**********Mean***********\n",
      "Year                                                                                                                           2020.000000\n",
      "Month                                                                                                                             6.500000\n",
      "How_many_Landed_on_our_Page?                                                                                                 392247.442593\n",
      "How_many_Landed_on_the_our_Page_and_clicked_on_a_button?                                                                     179228.131944\n",
      "How_many_Landed_on_the_our_Page_and_clicked_on_a_button_and_started_filling_the_Form?                                        151072.456019\n",
      "How_many_Landed_on_the_our_Page_and_clicked_on_a_button_and_started_filling_the_Form_and_Completed_and_submited_the_form?     59221.291204\n",
      "dtype: float64\n",
      "*********Median*********\n",
      "Year                                                                                                                          2020.0\n",
      "Month                                                                                                                            6.5\n",
      "How_many_Landed_on_our_Page?                                                                                                 12283.5\n",
      "How_many_Landed_on_the_our_Page_and_clicked_on_a_button?                                                                      4212.5\n",
      "How_many_Landed_on_the_our_Page_and_clicked_on_a_button_and_started_filling_the_Form?                                        70649.5\n",
      "How_many_Landed_on_the_our_Page_and_clicked_on_a_button_and_started_filling_the_Form_and_Completed_and_submited_the_form?    27004.5\n",
      "dtype: float64\n",
      "*********Quantile********\n",
      "Year                                                                                                                          2020.0\n",
      "Month                                                                                                                            6.5\n",
      "How_many_Landed_on_our_Page?                                                                                                 12283.5\n",
      "How_many_Landed_on_the_our_Page_and_clicked_on_a_button?                                                                      4212.5\n",
      "How_many_Landed_on_the_our_Page_and_clicked_on_a_button_and_started_filling_the_Form?                                        70649.5\n",
      "How_many_Landed_on_the_our_Page_and_clicked_on_a_button_and_started_filling_the_Form_and_Completed_and_submited_the_form?    27004.5\n",
      "Name: 0.5, dtype: float64\n",
      "*******Standard Derivation********\n",
      "Year                                                                                                                              0.816686\n",
      "Month                                                                                                                             3.452852\n",
      "How_many_Landed_on_our_Page?                                                                                                 955577.328614\n",
      "How_many_Landed_on_the_our_Page_and_clicked_on_a_button?                                                                     395156.221812\n",
      "How_many_Landed_on_the_our_Page_and_clicked_on_a_button_and_started_filling_the_Form?                                        235353.822907\n",
      "How_many_Landed_on_the_our_Page_and_clicked_on_a_button_and_started_filling_the_Form_and_Completed_and_submited_the_form?     86465.639532\n",
      "dtype: float64\n",
      "*********Unique Values********\n",
      "=> Type_of_Customers?\n",
      "['Existing_Customer' 'New_Customer']\n",
      "=> MobileWeb_or_Web\n",
      "['Desktop_Website' 'Mobile_website']\n",
      "=> Where_Are_They_comming_from?\n",
      "['Google' 'Direct_traffic' 'Unidentified_Sources']\n",
      "=> Which_Place_in_India?\n",
      "['Bangalore' 'Chennai' 'Dehradun' 'Indore' 'Pune']\n"
     ]
    }
   ],
   "source": [
    "def descriptive_stats(data):\n",
    "    print('**********Mean***********')\n",
    "    print(data.select_dtypes(exclude='object').mean())\n",
    "    \n",
    "    print('*********Median*********')\n",
    "    print(data.select_dtypes(exclude='object').median())\n",
    "    \n",
    "    print('*********Quantile********')\n",
    "    print(data.select_dtypes(exclude='object').quantile())\n",
    "    \n",
    "    print('*******Standard Derivation********')\n",
    "    print(data.select_dtypes(exclude='object').std())\n",
    "    \n",
    "    print('*********Unique Values********')\n",
    "    print('=> Type_of_Customers?')\n",
    "    print(data['Type_of_Customers?'].unique())\n",
    "    \n",
    "    print('=> MobileWeb_or_Web')\n",
    "    print(data['MobileWeb_or_Web'].unique())\n",
    "          \n",
    "    print('=> Where_Are_They_comming_from?')\n",
    "    print(data['Where_Are_They_comming_from?'].unique())\n",
    "    \n",
    "    print('=> Which_Place_in_India?')\n",
    "    print(data['Which_Place_in_India?'].unique())\n",
    "\n",
    "descriptive_stats(data)"
   ]
  },
  {
   "cell_type": "markdown",
   "id": "8b221168-6a88-47c2-9a03-2f579dac6a35",
   "metadata": {},
   "source": [
    "### Part 3: Prescriptive statistics\n",
    "* “Which_Place_in_India?”  has the highest “How_many_Landed_on_the_our_Page?”"
   ]
  },
  {
   "cell_type": "code",
   "execution_count": 8,
   "id": "77728b43-7ae3-4598-8f42-901f18a4e287",
   "metadata": {},
   "outputs": [
    {
     "data": {
      "text/plain": [
       "Which_Place_in_India?\n",
       "Pune    319132898.0\n",
       "Name: How_many_Landed_on_our_Page?, dtype: float64"
      ]
     },
     "execution_count": 8,
     "metadata": {},
     "output_type": "execute_result"
    }
   ],
   "source": [
    "data.groupby('Which_Place_in_India?')['How_many_Landed_on_our_Page?'].sum().nlargest(1)"
   ]
  },
  {
   "cell_type": "markdown",
   "id": "2ebb9f46-e6d3-49fe-8c6a-001d736c262f",
   "metadata": {},
   "source": [
    "* “How_many_Landed_on_the_our_Page_and_clicked_on_a_button_and_started_filling_the_Form_and_Completed_and_submited_the_form?” divided by “How_many_Landed_on _our_Page?” is highest for “Which_Place_in_India?” "
   ]
  },
  {
   "cell_type": "code",
   "execution_count": 9,
   "id": "3dd768a8-2df7-4812-9f3b-c15885434080",
   "metadata": {},
   "outputs": [
    {
     "data": {
      "text/html": [
       "<div>\n",
       "<style scoped>\n",
       "    .dataframe tbody tr th:only-of-type {\n",
       "        vertical-align: middle;\n",
       "    }\n",
       "\n",
       "    .dataframe tbody tr th {\n",
       "        vertical-align: top;\n",
       "    }\n",
       "\n",
       "    .dataframe thead th {\n",
       "        text-align: right;\n",
       "    }\n",
       "</style>\n",
       "<table border=\"1\" class=\"dataframe\">\n",
       "  <thead>\n",
       "    <tr style=\"text-align: right;\">\n",
       "      <th></th>\n",
       "      <th>Which_Place_in_India?</th>\n",
       "      <th>ratio</th>\n",
       "    </tr>\n",
       "  </thead>\n",
       "  <tbody>\n",
       "    <tr>\n",
       "      <th>262</th>\n",
       "      <td>Dehradun</td>\n",
       "      <td>0.618404</td>\n",
       "    </tr>\n",
       "  </tbody>\n",
       "</table>\n",
       "</div>"
      ],
      "text/plain": [
       "    Which_Place_in_India?     ratio\n",
       "262              Dehradun  0.618404"
      ]
     },
     "execution_count": 9,
     "metadata": {},
     "output_type": "execute_result"
    }
   ],
   "source": [
    "ratio1 = data['How_many_Landed_on_our_Page?'] != 0\n",
    "data.loc[ratio1, 'ratio'] = data['How_many_Landed_on_the_our_Page_and_clicked_on_a_button_and_started_filling_the_Form_and_Completed_and_submited_the_form?'] / data['How_many_Landed_on_our_Page?']\n",
    "data[['Which_Place_in_India?', 'ratio']].nlargest(1, 'ratio')"
   ]
  },
  {
   "cell_type": "markdown",
   "id": "e5a5e1ba-08f1-40cf-a044-0a63cce0198d",
   "metadata": {},
   "source": [
    "### Part 4: Simple Machine learning questions"
   ]
  },
  {
   "cell_type": "code",
   "execution_count": 10,
   "id": "c8e7ff01-e0e1-4407-9df9-154a0764678a",
   "metadata": {},
   "outputs": [],
   "source": [
    "pdata = data[data['How_many_Landed_on_our_Page?'] != 0]"
   ]
  },
  {
   "cell_type": "code",
   "execution_count": 11,
   "id": "30bb38fb-cfb7-4746-9e6b-233a8e509f7c",
   "metadata": {},
   "outputs": [],
   "source": [
    "x = pdata[['How_many_Landed_on_our_Page?', 'How_many_Landed_on_the_our_Page_and_clicked_on_a_button?', 'How_many_Landed_on_the_our_Page_and_clicked_on_a_button_and_started_filling_the_Form?']]\n",
    "y = pdata[['How_many_Landed_on_the_our_Page_and_clicked_on_a_button_and_started_filling_the_Form_and_Completed_and_submited_the_form?']]"
   ]
  },
  {
   "cell_type": "code",
   "execution_count": 12,
   "id": "64df470a-598b-4d13-b89d-1761d1276383",
   "metadata": {},
   "outputs": [
    {
     "data": {
      "text/html": [
       "<style>#sk-container-id-1 {color: black;background-color: white;}#sk-container-id-1 pre{padding: 0;}#sk-container-id-1 div.sk-toggleable {background-color: white;}#sk-container-id-1 label.sk-toggleable__label {cursor: pointer;display: block;width: 100%;margin-bottom: 0;padding: 0.3em;box-sizing: border-box;text-align: center;}#sk-container-id-1 label.sk-toggleable__label-arrow:before {content: \"▸\";float: left;margin-right: 0.25em;color: #696969;}#sk-container-id-1 label.sk-toggleable__label-arrow:hover:before {color: black;}#sk-container-id-1 div.sk-estimator:hover label.sk-toggleable__label-arrow:before {color: black;}#sk-container-id-1 div.sk-toggleable__content {max-height: 0;max-width: 0;overflow: hidden;text-align: left;background-color: #f0f8ff;}#sk-container-id-1 div.sk-toggleable__content pre {margin: 0.2em;color: black;border-radius: 0.25em;background-color: #f0f8ff;}#sk-container-id-1 input.sk-toggleable__control:checked~div.sk-toggleable__content {max-height: 200px;max-width: 100%;overflow: auto;}#sk-container-id-1 input.sk-toggleable__control:checked~label.sk-toggleable__label-arrow:before {content: \"▾\";}#sk-container-id-1 div.sk-estimator input.sk-toggleable__control:checked~label.sk-toggleable__label {background-color: #d4ebff;}#sk-container-id-1 div.sk-label input.sk-toggleable__control:checked~label.sk-toggleable__label {background-color: #d4ebff;}#sk-container-id-1 input.sk-hidden--visually {border: 0;clip: rect(1px 1px 1px 1px);clip: rect(1px, 1px, 1px, 1px);height: 1px;margin: -1px;overflow: hidden;padding: 0;position: absolute;width: 1px;}#sk-container-id-1 div.sk-estimator {font-family: monospace;background-color: #f0f8ff;border: 1px dotted black;border-radius: 0.25em;box-sizing: border-box;margin-bottom: 0.5em;}#sk-container-id-1 div.sk-estimator:hover {background-color: #d4ebff;}#sk-container-id-1 div.sk-parallel-item::after {content: \"\";width: 100%;border-bottom: 1px solid gray;flex-grow: 1;}#sk-container-id-1 div.sk-label:hover label.sk-toggleable__label {background-color: #d4ebff;}#sk-container-id-1 div.sk-serial::before {content: \"\";position: absolute;border-left: 1px solid gray;box-sizing: border-box;top: 0;bottom: 0;left: 50%;z-index: 0;}#sk-container-id-1 div.sk-serial {display: flex;flex-direction: column;align-items: center;background-color: white;padding-right: 0.2em;padding-left: 0.2em;position: relative;}#sk-container-id-1 div.sk-item {position: relative;z-index: 1;}#sk-container-id-1 div.sk-parallel {display: flex;align-items: stretch;justify-content: center;background-color: white;position: relative;}#sk-container-id-1 div.sk-item::before, #sk-container-id-1 div.sk-parallel-item::before {content: \"\";position: absolute;border-left: 1px solid gray;box-sizing: border-box;top: 0;bottom: 0;left: 50%;z-index: -1;}#sk-container-id-1 div.sk-parallel-item {display: flex;flex-direction: column;z-index: 1;position: relative;background-color: white;}#sk-container-id-1 div.sk-parallel-item:first-child::after {align-self: flex-end;width: 50%;}#sk-container-id-1 div.sk-parallel-item:last-child::after {align-self: flex-start;width: 50%;}#sk-container-id-1 div.sk-parallel-item:only-child::after {width: 0;}#sk-container-id-1 div.sk-dashed-wrapped {border: 1px dashed gray;margin: 0 0.4em 0.5em 0.4em;box-sizing: border-box;padding-bottom: 0.4em;background-color: white;}#sk-container-id-1 div.sk-label label {font-family: monospace;font-weight: bold;display: inline-block;line-height: 1.2em;}#sk-container-id-1 div.sk-label-container {text-align: center;}#sk-container-id-1 div.sk-container {/* jupyter's `normalize.less` sets `[hidden] { display: none; }` but bootstrap.min.css set `[hidden] { display: none !important; }` so we also need the `!important` here to be able to override the default hidden behavior on the sphinx rendered scikit-learn.org. See: https://github.com/scikit-learn/scikit-learn/issues/21755 */display: inline-block !important;position: relative;}#sk-container-id-1 div.sk-text-repr-fallback {display: none;}</style><div id=\"sk-container-id-1\" class=\"sk-top-container\"><div class=\"sk-text-repr-fallback\"><pre>LinearRegression()</pre><b>In a Jupyter environment, please rerun this cell to show the HTML representation or trust the notebook. <br />On GitHub, the HTML representation is unable to render, please try loading this page with nbviewer.org.</b></div><div class=\"sk-container\" hidden><div class=\"sk-item\"><div class=\"sk-estimator sk-toggleable\"><input class=\"sk-toggleable__control sk-hidden--visually\" id=\"sk-estimator-id-1\" type=\"checkbox\" checked><label for=\"sk-estimator-id-1\" class=\"sk-toggleable__label sk-toggleable__label-arrow\">LinearRegression</label><div class=\"sk-toggleable__content\"><pre>LinearRegression()</pre></div></div></div></div></div>"
      ],
      "text/plain": [
       "LinearRegression()"
      ]
     },
     "execution_count": 12,
     "metadata": {},
     "output_type": "execute_result"
    }
   ],
   "source": [
    "reg = LinearRegression()\n",
    "reg.fit(x,y)"
   ]
  },
  {
   "cell_type": "code",
   "execution_count": 13,
   "id": "aba0ce78-58be-4a68-a7de-74dd45e54dd0",
   "metadata": {},
   "outputs": [
    {
     "data": {
      "text/plain": [
       "array([[-0.00394645,  0.13720888,  0.08107113]])"
      ]
     },
     "execution_count": 13,
     "metadata": {},
     "output_type": "execute_result"
    }
   ],
   "source": [
    "reg.coef_"
   ]
  },
  {
   "cell_type": "code",
   "execution_count": 14,
   "id": "5725987d-f5a0-46e8-bebe-210df56ae135",
   "metadata": {},
   "outputs": [
    {
     "data": {
      "text/plain": [
       "array([26497.15608186])"
      ]
     },
     "execution_count": 14,
     "metadata": {},
     "output_type": "execute_result"
    }
   ],
   "source": [
    "reg.intercept_"
   ]
  },
  {
   "cell_type": "code",
   "execution_count": 15,
   "id": "ac68405e-658f-4f6a-8ac8-166f4ae8bd71",
   "metadata": {},
   "outputs": [
    {
     "data": {
      "text/plain": [
       "0.6220845868642246"
      ]
     },
     "execution_count": 15,
     "metadata": {},
     "output_type": "execute_result"
    }
   ],
   "source": [
    "reg.score(x,y)"
   ]
  },
  {
   "cell_type": "markdown",
   "id": "c6a0e955-5ed8-4231-b6e5-855765d7cabf",
   "metadata": {},
   "source": [
    "#### Calculating and adding new column 'prediction' to dataframe"
   ]
  },
  {
   "cell_type": "code",
   "execution_count": 16,
   "id": "68dfb649-e553-47e2-829f-3c914b914426",
   "metadata": {},
   "outputs": [],
   "source": [
    "data.loc[data['How_many_Landed_on_our_Page?'] != 0, 'prediction'] = reg.predict(x)"
   ]
  },
  {
   "cell_type": "markdown",
   "id": "a31714e0-dc56-41f4-806b-714ec62bd82f",
   "metadata": {},
   "source": [
    "#### Calculating and adding new column for 'MAPE'"
   ]
  },
  {
   "cell_type": "code",
   "execution_count": 17,
   "id": "925d3a04-562d-4d72-9825-0ddd775c0c13",
   "metadata": {},
   "outputs": [
    {
     "data": {
      "text/html": [
       "<div>\n",
       "<style scoped>\n",
       "    .dataframe tbody tr th:only-of-type {\n",
       "        vertical-align: middle;\n",
       "    }\n",
       "\n",
       "    .dataframe tbody tr th {\n",
       "        vertical-align: top;\n",
       "    }\n",
       "\n",
       "    .dataframe thead th {\n",
       "        text-align: right;\n",
       "    }\n",
       "</style>\n",
       "<table border=\"1\" class=\"dataframe\">\n",
       "  <thead>\n",
       "    <tr style=\"text-align: right;\">\n",
       "      <th></th>\n",
       "      <th>Year</th>\n",
       "      <th>Month</th>\n",
       "      <th>MobileWeb_or_Web</th>\n",
       "      <th>Type_of_Customers?</th>\n",
       "      <th>Where_Are_They_comming_from?</th>\n",
       "      <th>Which_Place_in_India?</th>\n",
       "      <th>How_many_Landed_on_our_Page?</th>\n",
       "      <th>How_many_Landed_on_the_our_Page_and_clicked_on_a_button?</th>\n",
       "      <th>How_many_Landed_on_the_our_Page_and_clicked_on_a_button_and_started_filling_the_Form?</th>\n",
       "      <th>How_many_Landed_on_the_our_Page_and_clicked_on_a_button_and_started_filling_the_Form_and_Completed_and_submited_the_form?</th>\n",
       "      <th>ratio</th>\n",
       "      <th>prediction</th>\n",
       "    </tr>\n",
       "  </thead>\n",
       "  <tbody>\n",
       "    <tr>\n",
       "      <th>0</th>\n",
       "      <td>2019</td>\n",
       "      <td>1</td>\n",
       "      <td>Desktop_Website</td>\n",
       "      <td>Existing_Customer</td>\n",
       "      <td>Google</td>\n",
       "      <td>Bangalore</td>\n",
       "      <td>0.0</td>\n",
       "      <td>0.0</td>\n",
       "      <td>56892</td>\n",
       "      <td>17178</td>\n",
       "      <td>NaN</td>\n",
       "      <td>NaN</td>\n",
       "    </tr>\n",
       "    <tr>\n",
       "      <th>1</th>\n",
       "      <td>2019</td>\n",
       "      <td>1</td>\n",
       "      <td>Desktop_Website</td>\n",
       "      <td>Existing_Customer</td>\n",
       "      <td>Google</td>\n",
       "      <td>Chennai</td>\n",
       "      <td>0.0</td>\n",
       "      <td>0.0</td>\n",
       "      <td>41460</td>\n",
       "      <td>11916</td>\n",
       "      <td>NaN</td>\n",
       "      <td>NaN</td>\n",
       "    </tr>\n",
       "    <tr>\n",
       "      <th>2</th>\n",
       "      <td>2019</td>\n",
       "      <td>1</td>\n",
       "      <td>Desktop_Website</td>\n",
       "      <td>Existing_Customer</td>\n",
       "      <td>Google</td>\n",
       "      <td>Dehradun</td>\n",
       "      <td>0.0</td>\n",
       "      <td>0.0</td>\n",
       "      <td>55561</td>\n",
       "      <td>19461</td>\n",
       "      <td>NaN</td>\n",
       "      <td>NaN</td>\n",
       "    </tr>\n",
       "    <tr>\n",
       "      <th>3</th>\n",
       "      <td>2019</td>\n",
       "      <td>1</td>\n",
       "      <td>Desktop_Website</td>\n",
       "      <td>Existing_Customer</td>\n",
       "      <td>Google</td>\n",
       "      <td>Indore</td>\n",
       "      <td>0.0</td>\n",
       "      <td>0.0</td>\n",
       "      <td>320923</td>\n",
       "      <td>110667</td>\n",
       "      <td>NaN</td>\n",
       "      <td>NaN</td>\n",
       "    </tr>\n",
       "    <tr>\n",
       "      <th>4</th>\n",
       "      <td>2019</td>\n",
       "      <td>1</td>\n",
       "      <td>Desktop_Website</td>\n",
       "      <td>Existing_Customer</td>\n",
       "      <td>Google</td>\n",
       "      <td>Pune</td>\n",
       "      <td>0.0</td>\n",
       "      <td>0.0</td>\n",
       "      <td>220937</td>\n",
       "      <td>46033</td>\n",
       "      <td>NaN</td>\n",
       "      <td>NaN</td>\n",
       "    </tr>\n",
       "    <tr>\n",
       "      <th>...</th>\n",
       "      <td>...</td>\n",
       "      <td>...</td>\n",
       "      <td>...</td>\n",
       "      <td>...</td>\n",
       "      <td>...</td>\n",
       "      <td>...</td>\n",
       "      <td>...</td>\n",
       "      <td>...</td>\n",
       "      <td>...</td>\n",
       "      <td>...</td>\n",
       "      <td>...</td>\n",
       "      <td>...</td>\n",
       "    </tr>\n",
       "    <tr>\n",
       "      <th>2155</th>\n",
       "      <td>2021</td>\n",
       "      <td>12</td>\n",
       "      <td>Mobile_website</td>\n",
       "      <td>New_Customer</td>\n",
       "      <td>Unidentified_Sources</td>\n",
       "      <td>Bangalore</td>\n",
       "      <td>67299.0</td>\n",
       "      <td>21255.0</td>\n",
       "      <td>6984</td>\n",
       "      <td>1882</td>\n",
       "      <td>0.027965</td>\n",
       "      <td>29714.139147</td>\n",
       "    </tr>\n",
       "    <tr>\n",
       "      <th>2156</th>\n",
       "      <td>2021</td>\n",
       "      <td>12</td>\n",
       "      <td>Mobile_website</td>\n",
       "      <td>New_Customer</td>\n",
       "      <td>Unidentified_Sources</td>\n",
       "      <td>Chennai</td>\n",
       "      <td>430294.0</td>\n",
       "      <td>156510.0</td>\n",
       "      <td>46676</td>\n",
       "      <td>16703</td>\n",
       "      <td>0.038818</td>\n",
       "      <td>50057.658105</td>\n",
       "    </tr>\n",
       "    <tr>\n",
       "      <th>2157</th>\n",
       "      <td>2021</td>\n",
       "      <td>12</td>\n",
       "      <td>Mobile_website</td>\n",
       "      <td>New_Customer</td>\n",
       "      <td>Unidentified_Sources</td>\n",
       "      <td>Dehradun</td>\n",
       "      <td>48713.0</td>\n",
       "      <td>27770.0</td>\n",
       "      <td>7515</td>\n",
       "      <td>2089</td>\n",
       "      <td>0.042884</td>\n",
       "      <td>30724.452525</td>\n",
       "    </tr>\n",
       "    <tr>\n",
       "      <th>2158</th>\n",
       "      <td>2021</td>\n",
       "      <td>12</td>\n",
       "      <td>Mobile_website</td>\n",
       "      <td>New_Customer</td>\n",
       "      <td>Unidentified_Sources</td>\n",
       "      <td>Indore</td>\n",
       "      <td>593021.0</td>\n",
       "      <td>310836.0</td>\n",
       "      <td>161575</td>\n",
       "      <td>78465</td>\n",
       "      <td>0.132314</td>\n",
       "      <td>79905.352631</td>\n",
       "    </tr>\n",
       "    <tr>\n",
       "      <th>2159</th>\n",
       "      <td>2021</td>\n",
       "      <td>12</td>\n",
       "      <td>Mobile_website</td>\n",
       "      <td>New_Customer</td>\n",
       "      <td>Unidentified_Sources</td>\n",
       "      <td>Pune</td>\n",
       "      <td>372897.0</td>\n",
       "      <td>123057.0</td>\n",
       "      <td>48802</td>\n",
       "      <td>19441</td>\n",
       "      <td>0.052135</td>\n",
       "      <td>45866.481428</td>\n",
       "    </tr>\n",
       "  </tbody>\n",
       "</table>\n",
       "<p>2160 rows × 12 columns</p>\n",
       "</div>"
      ],
      "text/plain": [
       "      Year  Month MobileWeb_or_Web Type_of_Customers?  \\\n",
       "0     2019      1  Desktop_Website  Existing_Customer   \n",
       "1     2019      1  Desktop_Website  Existing_Customer   \n",
       "2     2019      1  Desktop_Website  Existing_Customer   \n",
       "3     2019      1  Desktop_Website  Existing_Customer   \n",
       "4     2019      1  Desktop_Website  Existing_Customer   \n",
       "...    ...    ...              ...                ...   \n",
       "2155  2021     12   Mobile_website       New_Customer   \n",
       "2156  2021     12   Mobile_website       New_Customer   \n",
       "2157  2021     12   Mobile_website       New_Customer   \n",
       "2158  2021     12   Mobile_website       New_Customer   \n",
       "2159  2021     12   Mobile_website       New_Customer   \n",
       "\n",
       "     Where_Are_They_comming_from? Which_Place_in_India?  \\\n",
       "0                          Google             Bangalore   \n",
       "1                          Google               Chennai   \n",
       "2                          Google              Dehradun   \n",
       "3                          Google                Indore   \n",
       "4                          Google                  Pune   \n",
       "...                           ...                   ...   \n",
       "2155         Unidentified_Sources             Bangalore   \n",
       "2156         Unidentified_Sources               Chennai   \n",
       "2157         Unidentified_Sources              Dehradun   \n",
       "2158         Unidentified_Sources                Indore   \n",
       "2159         Unidentified_Sources                  Pune   \n",
       "\n",
       "      How_many_Landed_on_our_Page?  \\\n",
       "0                              0.0   \n",
       "1                              0.0   \n",
       "2                              0.0   \n",
       "3                              0.0   \n",
       "4                              0.0   \n",
       "...                            ...   \n",
       "2155                       67299.0   \n",
       "2156                      430294.0   \n",
       "2157                       48713.0   \n",
       "2158                      593021.0   \n",
       "2159                      372897.0   \n",
       "\n",
       "      How_many_Landed_on_the_our_Page_and_clicked_on_a_button?  \\\n",
       "0                                                   0.0          \n",
       "1                                                   0.0          \n",
       "2                                                   0.0          \n",
       "3                                                   0.0          \n",
       "4                                                   0.0          \n",
       "...                                                 ...          \n",
       "2155                                            21255.0          \n",
       "2156                                           156510.0          \n",
       "2157                                            27770.0          \n",
       "2158                                           310836.0          \n",
       "2159                                           123057.0          \n",
       "\n",
       "      How_many_Landed_on_the_our_Page_and_clicked_on_a_button_and_started_filling_the_Form?  \\\n",
       "0                                                 56892                                       \n",
       "1                                                 41460                                       \n",
       "2                                                 55561                                       \n",
       "3                                                320923                                       \n",
       "4                                                220937                                       \n",
       "...                                                 ...                                       \n",
       "2155                                               6984                                       \n",
       "2156                                              46676                                       \n",
       "2157                                               7515                                       \n",
       "2158                                             161575                                       \n",
       "2159                                              48802                                       \n",
       "\n",
       "      How_many_Landed_on_the_our_Page_and_clicked_on_a_button_and_started_filling_the_Form_and_Completed_and_submited_the_form?  \\\n",
       "0                                                 17178                                                                           \n",
       "1                                                 11916                                                                           \n",
       "2                                                 19461                                                                           \n",
       "3                                                110667                                                                           \n",
       "4                                                 46033                                                                           \n",
       "...                                                 ...                                                                           \n",
       "2155                                               1882                                                                           \n",
       "2156                                              16703                                                                           \n",
       "2157                                               2089                                                                           \n",
       "2158                                              78465                                                                           \n",
       "2159                                              19441                                                                           \n",
       "\n",
       "         ratio    prediction  \n",
       "0          NaN           NaN  \n",
       "1          NaN           NaN  \n",
       "2          NaN           NaN  \n",
       "3          NaN           NaN  \n",
       "4          NaN           NaN  \n",
       "...        ...           ...  \n",
       "2155  0.027965  29714.139147  \n",
       "2156  0.038818  50057.658105  \n",
       "2157  0.042884  30724.452525  \n",
       "2158  0.132314  79905.352631  \n",
       "2159  0.052135  45866.481428  \n",
       "\n",
       "[2160 rows x 12 columns]"
      ]
     },
     "execution_count": 17,
     "metadata": {},
     "output_type": "execute_result"
    }
   ],
   "source": [
    "data"
   ]
  },
  {
   "cell_type": "code",
   "execution_count": 18,
   "id": "f1cd0d59-c654-416a-8c08-b4a0d48643a5",
   "metadata": {},
   "outputs": [],
   "source": [
    "mape = (pdata['How_many_Landed_on_the_our_Page_and_clicked_on_a_button_and_started_filling_the_Form_and_Completed_and_submited_the_form?'] - data['prediction']) /  data['How_many_Landed_on_the_our_Page_and_clicked_on_a_button_and_started_filling_the_Form_and_Completed_and_submited_the_form?']"
   ]
  },
  {
   "cell_type": "code",
   "execution_count": 19,
   "id": "249077aa-a2fb-4fb1-bb1f-45698f83f1ef",
   "metadata": {},
   "outputs": [],
   "source": [
    "data.loc[data['How_many_Landed_on_our_Page?'] != 0, 'MAPE'] = mape.abs()*100"
   ]
  },
  {
   "cell_type": "markdown",
   "id": "6536e067-6033-43ca-a546-274c4d58dd82",
   "metadata": {},
   "source": [
    "### Part 5: Visualization"
   ]
  },
  {
   "cell_type": "markdown",
   "id": "d313aa70-609e-4b11-9a9d-d53314d362df",
   "metadata": {},
   "source": [
    "#### Graph 1"
   ]
  },
  {
   "cell_type": "code",
   "execution_count": 20,
   "id": "431f57b3-2641-45f2-a0ef-abdc2376ecc1",
   "metadata": {},
   "outputs": [
    {
     "data": {
      "text/plain": [
       "<AxesSubplot:xlabel='Which_Place_in_India?'>"
      ]
     },
     "execution_count": 20,
     "metadata": {},
     "output_type": "execute_result"
    },
    {
     "data": {
      "image/png": "[encoded data removed]",
      "text/plain": [
       "<Figure size 720x432 with 1 Axes>"
      ]
     },
     "metadata": {
      "needs_background": "light"
     },
     "output_type": "display_data"
    }
   ],
   "source": [
    "plt.figure(figsize = (10,6))\n",
    "data[data['Year'].between(2019,2020)].groupby('Which_Place_in_India?')['How_many_Landed_on_the_our_Page_and_clicked_on_a_button?'].sum().plot()"
   ]
  },
  {
   "cell_type": "markdown",
   "id": "053aebde-68ca-4b12-85f0-cf406eaa9464",
   "metadata": {},
   "source": [
    "#### Graph 2"
   ]
  },
  {
   "cell_type": "code",
   "execution_count": 21,
   "id": "f45f70f8-b261-4a63-865f-6221d0135f6f",
   "metadata": {},
   "outputs": [],
   "source": [
    "yy1 = data.dropna().groupby(['Year', 'Month'])['How_many_Landed_on_the_our_Page_and_clicked_on_a_button_and_started_filling_the_Form_and_Completed_and_submited_the_form?'].sum()\n",
    "yy2 = data.dropna().groupby(['Year', 'Month'])['prediction'].sum()"
   ]
  },
  {
   "cell_type": "code",
   "execution_count": 22,
   "id": "b208e9ba-50f6-4d21-a9c0-3d01af9d2125",
   "metadata": {},
   "outputs": [
    {
     "data": {
      "text/plain": [
       "<matplotlib.legend.Legend at 0x7fe6a5ccfb80>"
      ]
     },
     "execution_count": 22,
     "metadata": {},
     "output_type": "execute_result"
    },
    {
     "data": {
      "image/png": "[encoded data removed]",
      "text/plain": [
       "<Figure size 720x432 with 1 Axes>"
      ]
     },
     "metadata": {
      "needs_background": "light"
     },
     "output_type": "display_data"
    }
   ],
   "source": [
    "plt.figure(figsize = (10,6))\n",
    "yy1.plot(kind = 'line', label = 'Actual')\n",
    "yy2.plot(kind = 'line', label = 'Predicted')\n",
    "plt.legend()"
   ]
  },
  {
   "cell_type": "markdown",
   "id": "00580270-c8f3-413f-bdf7-ca9f632656f2",
   "metadata": {},
   "source": [
    "### Part 6: About the Previous projects"
   ]
  },
  {
   "cell_type": "markdown",
   "id": "f0fc6bf6-f96c-4184-bbcb-b98fbc6c40cb",
   "metadata": {},
   "source": [
    "* I have worked on 2 projects based on data analysis. One is food sales data analysis using Excel and another one is data analysis on adventure works sales using PowerBI."
   ]
  },
  {
   "cell_type": "markdown",
   "id": "0f3efff3-1d86-4cff-bb5e-c7c5abd69287",
   "metadata": {},
   "source": [
    "* Github - https://github.com/anulkanpuria/"
   ]
  },
  {
   "cell_type": "markdown",
   "id": "f9d10bf6-f355-47dc-bbd2-db8fa31258b9",
   "metadata": {},
   "source": [
    "### Part 7 : Time management"
   ]
  },
  {
   "cell_type": "markdown",
   "id": "51b4fd2b-be57-4ffd-8b4d-3370952571a5",
   "metadata": {},
   "source": [
    "* I am looking for opportunity where i can be a part of the progressive and leading organization in order to achieve goals, where i can learn and implement skills and give my best.\n",
    "* I have no issues doing full-time internship"
   ]
  },
  {
   "cell_type": "code",
   "execution_count": null,
   "id": "5a9d2778-9a4d-4ae0-a234-2e403af3d849",
   "metadata": {},
   "outputs": [],
   "source": []
  }
 ],
 "metadata": {
  "kernelspec": {
   "display_name": "Python 3",
   "language": "python",
   "name": "python3"
  },
  "language_info": {
   "codemirror_mode": {
    "name": "ipython",
    "version": 3
   },
   "file_extension": ".py",
   "mimetype": "text/x-python",
   "name": "python",
   "nbconvert_exporter": "python",
   "pygments_lexer": "ipython3",
   "version": "3.9.2"
  }
 },
 "nbformat": 4,
 "nbformat_minor": 5
}
