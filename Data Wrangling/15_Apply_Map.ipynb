{
 "cells": [
  {
   "cell_type": "code",
   "execution_count": 1,
   "id": "97a94b8e-f413-4298-b095-c85fa28e2a9f",
   "metadata": {},
   "outputs": [],
   "source": [
    "import pandas as pd\n",
    "\n",
    "ufos = pd.read_csv('../data/nuforc_reports.csv')\n",
    "titanic = pd.read_csv('../data/titanic.csv')\n",
    "titanic['age'] = titanic['age'].replace(['?'], [None]).astype(float)\n",
    "titanic['fare'] = titanic['fare'].replace(['?'], [None]).astype(float)"
   ]
  },
  {
   "cell_type": "code",
   "execution_count": 2,
   "id": "917db517-a340-451e-a854-34eb15c2d249",
   "metadata": {},
   "outputs": [
    {
     "data": {
      "text/plain": [
       "0       10585.0000\n",
       "1         334.5955\n",
       "2         730.0000\n",
       "3       10950.0000\n",
       "4        9125.0000\n",
       "           ...    \n",
       "1304     5292.5000\n",
       "1305           NaN\n",
       "1306     9672.5000\n",
       "1307     9855.0000\n",
       "1308    10585.0000\n",
       "Name: age, Length: 1309, dtype: float64"
      ]
     },
     "execution_count": 2,
     "metadata": {},
     "output_type": "execute_result"
    }
   ],
   "source": [
    "def years_to_days(yrs):\n",
    "    return yrs*365\n",
    "\n",
    "titanic['age'].apply(years_to_days)"
   ]
  },
  {
   "cell_type": "code",
   "execution_count": 3,
   "id": "9ce1d9ef-aef8-4a1e-8a5f-8815ccaec947",
   "metadata": {},
   "outputs": [
    {
     "data": {
      "text/plain": [
       "0       10585.0000\n",
       "1         334.5955\n",
       "2         730.0000\n",
       "3       10950.0000\n",
       "4        9125.0000\n",
       "           ...    \n",
       "1304     5292.5000\n",
       "1305           NaN\n",
       "1306     9672.5000\n",
       "1307     9855.0000\n",
       "1308    10585.0000\n",
       "Name: age, Length: 1309, dtype: float64"
      ]
     },
     "execution_count": 3,
     "metadata": {},
     "output_type": "execute_result"
    }
   ],
   "source": [
    "titanic['age'] * 365"
   ]
  },
  {
   "cell_type": "code",
   "execution_count": 6,
   "id": "d856aa13-a2c5-4c12-9f3e-4b9f89d65573",
   "metadata": {},
   "outputs": [],
   "source": [
    "def get_age_group(age):\n",
    "    if age < 2:\n",
    "        return 'infant'\n",
    "    elif age < 12:\n",
    "        return 'child'\n",
    "    elif age < 18:\n",
    "        return 'teen'\n",
    "    elif age < 50:\n",
    "        return 'adult'\n",
    "    else:\n",
    "        return 'senior'"
   ]
  },
  {
   "cell_type": "code",
   "execution_count": 7,
   "id": "2ccca716-a179-414d-a87a-210f014bb4d2",
   "metadata": {},
   "outputs": [
    {
     "data": {
      "text/plain": [
       "0        adult\n",
       "1       infant\n",
       "2        child\n",
       "3        adult\n",
       "4        adult\n",
       "         ...  \n",
       "1304      teen\n",
       "1305    senior\n",
       "1306     adult\n",
       "1307     adult\n",
       "1308     adult\n",
       "Name: age, Length: 1309, dtype: object"
      ]
     },
     "execution_count": 7,
     "metadata": {},
     "output_type": "execute_result"
    }
   ],
   "source": [
    "titanic['age'].apply(get_age_group)"
   ]
  },
  {
   "cell_type": "code",
   "execution_count": 8,
   "id": "c3f4b945-4470-431f-81d9-8931f3fa8be8",
   "metadata": {},
   "outputs": [],
   "source": [
    "titanic['age_group'] = titanic['age'].apply(get_age_group)"
   ]
  },
  {
   "cell_type": "code",
   "execution_count": 9,
   "id": "5d31f972-cee2-431d-8004-436027aadee9",
   "metadata": {},
   "outputs": [
    {
     "data": {
      "text/plain": [
       "adult     782\n",
       "senior    373\n",
       "child      69\n",
       "teen       63\n",
       "infant     22\n",
       "Name: age_group, dtype: int64"
      ]
     },
     "execution_count": 9,
     "metadata": {},
     "output_type": "execute_result"
    }
   ],
   "source": [
    "titanic['age_group'].value_counts()"
   ]
  },
  {
   "cell_type": "code",
   "execution_count": 10,
   "id": "506d6c79-f7a6-4c3d-a51f-1a4091ce7086",
   "metadata": {},
   "outputs": [
    {
     "data": {
      "text/plain": [
       "age_group\n",
       "adult     0.386189\n",
       "child     0.492754\n",
       "infant    0.772727\n",
       "senior    0.313673\n",
       "teen      0.476190\n",
       "Name: survived, dtype: float64"
      ]
     },
     "execution_count": 10,
     "metadata": {},
     "output_type": "execute_result"
    }
   ],
   "source": [
    "titanic.groupby('age_group').survived.mean()"
   ]
  },
  {
   "cell_type": "code",
   "execution_count": 16,
   "id": "a8845220-d85d-455a-8ec8-857513e04a98",
   "metadata": {},
   "outputs": [
    {
     "data": {
      "text/plain": [
       "sex     age_group\n",
       "female  adult        0.748201\n",
       "        child        0.515152\n",
       "        infant       0.888889\n",
       "        senior       0.698276\n",
       "        teen         0.833333\n",
       "male    adult        0.186508\n",
       "        child        0.472222\n",
       "        infant       0.692308\n",
       "        senior       0.140078\n",
       "        teen         0.151515\n",
       "Name: survived, dtype: float64"
      ]
     },
     "execution_count": 16,
     "metadata": {},
     "output_type": "execute_result"
    }
   ],
   "source": [
    "titanic.groupby(['sex', 'age_group']).survived.mean()"
   ]
  },
  {
   "cell_type": "code",
   "execution_count": 18,
   "id": "1b24ff88-5547-4a0d-8603-f25037be9e3b",
   "metadata": {},
   "outputs": [
    {
     "data": {
      "text/plain": [
       "0                   $5072.1\n",
       "1       $3637.2000000000003\n",
       "2       $3637.2000000000003\n",
       "3       $3637.2000000000003\n",
       "4       $3637.2000000000003\n",
       "               ...         \n",
       "1304              $346.9008\n",
       "1305              $346.9008\n",
       "1306    $173.39999999999998\n",
       "1307    $173.39999999999998\n",
       "1308                 $189.0\n",
       "Name: fare, Length: 1309, dtype: object"
      ]
     },
     "execution_count": 18,
     "metadata": {},
     "output_type": "execute_result"
    }
   ],
   "source": [
    "titanic['fare'].apply(lambda x: f'${x*24}')"
   ]
  },
  {
   "cell_type": "code",
   "execution_count": 19,
   "id": "bb504d50-01ed-4708-adc8-0370154143ab",
   "metadata": {},
   "outputs": [],
   "source": [
    "def get_range(s):\n",
    "    return s.max() - s.min()"
   ]
  },
  {
   "cell_type": "code",
   "execution_count": 20,
   "id": "be7c6729-86d0-424e-a2e4-e5858cfdc662",
   "metadata": {},
   "outputs": [],
   "source": [
    "df = titanic[['pclass', 'survived', 'age', 'fare']]"
   ]
  },
  {
   "cell_type": "code",
   "execution_count": 21,
   "id": "84151f61-3c2d-4946-8d33-fdf384e61f46",
   "metadata": {},
   "outputs": [
    {
     "data": {
      "text/plain": [
       "pclass        2.0000\n",
       "survived      1.0000\n",
       "age          79.8333\n",
       "fare        512.3292\n",
       "dtype: float64"
      ]
     },
     "execution_count": 21,
     "metadata": {},
     "output_type": "execute_result"
    }
   ],
   "source": [
    "df.apply(get_range)"
   ]
  },
  {
   "cell_type": "code",
   "execution_count": 22,
   "id": "823266f7-68e6-4a17-8175-a7c1878ffb95",
   "metadata": {},
   "outputs": [
    {
     "data": {
      "text/plain": [
       "pclass        2.0000\n",
       "survived      1.0000\n",
       "age          79.8333\n",
       "fare        512.3292\n",
       "dtype: float64"
      ]
     },
     "execution_count": 22,
     "metadata": {},
     "output_type": "execute_result"
    }
   ],
   "source": [
    "df.apply(get_range, axis=0) #Uses columns"
   ]
  },
  {
   "cell_type": "code",
   "execution_count": 23,
   "id": "6b3964d7-a5c6-42f5-ab59-11ab1f71dadf",
   "metadata": {},
   "outputs": [
    {
     "data": {
      "text/plain": [
       "0       210.3375\n",
       "1       150.6333\n",
       "2       151.5500\n",
       "3       151.5500\n",
       "4       151.5500\n",
       "          ...   \n",
       "1304     14.5000\n",
       "1305     14.4542\n",
       "1306     26.5000\n",
       "1307     27.0000\n",
       "1308     29.0000\n",
       "Length: 1309, dtype: float64"
      ]
     },
     "execution_count": 23,
     "metadata": {},
     "output_type": "execute_result"
    }
   ],
   "source": [
    "df.apply(get_range, axis=1) #Uses rows"
   ]
  },
  {
   "cell_type": "code",
   "execution_count": 26,
   "id": "27dacd7c-4e74-4bbf-b970-2e0f5e75e57b",
   "metadata": {},
   "outputs": [
    {
     "data": {
      "text/plain": [
       "0       1\n",
       "1       1\n",
       "2       1\n",
       "3       1\n",
       "4       1\n",
       "       ..\n",
       "1304    3\n",
       "1305    3\n",
       "1306    3\n",
       "1307    3\n",
       "1308    3\n",
       "Name: pclass, Length: 1309, dtype: int64"
      ]
     },
     "execution_count": 26,
     "metadata": {},
     "output_type": "execute_result"
    }
   ],
   "source": [
    "titanic['pclass']"
   ]
  },
  {
   "cell_type": "code",
   "execution_count": 25,
   "id": "a4ee4014-8627-4446-81eb-3ece7f8785c8",
   "metadata": {},
   "outputs": [
    {
     "data": {
      "text/plain": [
       "0       1st\n",
       "1       1st\n",
       "2       1st\n",
       "3       1st\n",
       "4       1st\n",
       "       ... \n",
       "1304    3rd\n",
       "1305    3rd\n",
       "1306    3rd\n",
       "1307    3rd\n",
       "1308    3rd\n",
       "Name: pclass, Length: 1309, dtype: object"
      ]
     },
     "execution_count": 25,
     "metadata": {},
     "output_type": "execute_result"
    }
   ],
   "source": [
    "titanic['pclass'].map({1: '1st', 2: '2nd', 3: '3rd'})"
   ]
  },
  {
   "cell_type": "code",
   "execution_count": 27,
   "id": "ccefdcef-fc91-4bf6-8132-7bd49c1bb34f",
   "metadata": {},
   "outputs": [
    {
     "data": {
      "text/html": [
       "<div>\n",
       "<style scoped>\n",
       "    .dataframe tbody tr th:only-of-type {\n",
       "        vertical-align: middle;\n",
       "    }\n",
       "\n",
       "    .dataframe tbody tr th {\n",
       "        vertical-align: top;\n",
       "    }\n",
       "\n",
       "    .dataframe thead th {\n",
       "        text-align: right;\n",
       "    }\n",
       "</style>\n",
       "<table border=\"1\" class=\"dataframe\">\n",
       "  <thead>\n",
       "    <tr style=\"text-align: right;\">\n",
       "      <th></th>\n",
       "      <th>name</th>\n",
       "      <th>sex</th>\n",
       "      <th>age_group</th>\n",
       "    </tr>\n",
       "  </thead>\n",
       "  <tbody>\n",
       "    <tr>\n",
       "      <th>0</th>\n",
       "      <td>29</td>\n",
       "      <td>6</td>\n",
       "      <td>5</td>\n",
       "    </tr>\n",
       "    <tr>\n",
       "      <th>1</th>\n",
       "      <td>30</td>\n",
       "      <td>4</td>\n",
       "      <td>6</td>\n",
       "    </tr>\n",
       "    <tr>\n",
       "      <th>2</th>\n",
       "      <td>28</td>\n",
       "      <td>6</td>\n",
       "      <td>5</td>\n",
       "    </tr>\n",
       "    <tr>\n",
       "      <th>3</th>\n",
       "      <td>36</td>\n",
       "      <td>4</td>\n",
       "      <td>5</td>\n",
       "    </tr>\n",
       "    <tr>\n",
       "      <th>4</th>\n",
       "      <td>47</td>\n",
       "      <td>6</td>\n",
       "      <td>5</td>\n",
       "    </tr>\n",
       "    <tr>\n",
       "      <th>...</th>\n",
       "      <td>...</td>\n",
       "      <td>...</td>\n",
       "      <td>...</td>\n",
       "    </tr>\n",
       "    <tr>\n",
       "      <th>1304</th>\n",
       "      <td>20</td>\n",
       "      <td>6</td>\n",
       "      <td>4</td>\n",
       "    </tr>\n",
       "    <tr>\n",
       "      <th>1305</th>\n",
       "      <td>21</td>\n",
       "      <td>6</td>\n",
       "      <td>6</td>\n",
       "    </tr>\n",
       "    <tr>\n",
       "      <th>1306</th>\n",
       "      <td>25</td>\n",
       "      <td>4</td>\n",
       "      <td>5</td>\n",
       "    </tr>\n",
       "    <tr>\n",
       "      <th>1307</th>\n",
       "      <td>19</td>\n",
       "      <td>4</td>\n",
       "      <td>5</td>\n",
       "    </tr>\n",
       "    <tr>\n",
       "      <th>1308</th>\n",
       "      <td>18</td>\n",
       "      <td>4</td>\n",
       "      <td>5</td>\n",
       "    </tr>\n",
       "  </tbody>\n",
       "</table>\n",
       "<p>1309 rows × 3 columns</p>\n",
       "</div>"
      ],
      "text/plain": [
       "      name  sex  age_group\n",
       "0       29    6          5\n",
       "1       30    4          6\n",
       "2       28    6          5\n",
       "3       36    4          5\n",
       "4       47    6          5\n",
       "...    ...  ...        ...\n",
       "1304    20    6          4\n",
       "1305    21    6          6\n",
       "1306    25    4          5\n",
       "1307    19    4          5\n",
       "1308    18    4          5\n",
       "\n",
       "[1309 rows x 3 columns]"
      ]
     },
     "execution_count": 27,
     "metadata": {},
     "output_type": "execute_result"
    }
   ],
   "source": [
    "titanic[['name', 'sex', 'age_group']].applymap(len)"
   ]
  },
  {
   "cell_type": "code",
   "execution_count": null,
   "id": "635d6da1-fed5-4beb-b491-994f58ded302",
   "metadata": {},
   "outputs": [],
   "source": []
  }
 ],
 "metadata": {
  "kernelspec": {
   "display_name": "Python 3",
   "language": "python",
   "name": "python3"
  },
  "language_info": {
   "codemirror_mode": {
    "name": "ipython",
    "version": 3
   },
   "file_extension": ".py",
   "mimetype": "text/x-python",
   "name": "python",
   "nbconvert_exporter": "python",
   "pygments_lexer": "ipython3",
   "version": "3.9.2"
  }
 },
 "nbformat": 4,
 "nbformat_minor": 5
}
