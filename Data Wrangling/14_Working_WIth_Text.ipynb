{
 "cells": [
  {
   "cell_type": "code",
   "execution_count": 1,
   "id": "03deaa03-453b-4458-9bdc-3b5aa24111b4",
   "metadata": {},
   "outputs": [],
   "source": [
    "import pandas as pd\n",
    "\n",
    "ufos = pd.read_csv('../data/nuforc_reports.csv')\n",
    "titanic = pd.read_csv('../data/titanic.csv')\n",
    "titanic['age'] = titanic['age'].replace(['?'], [None]).astype(float)\n",
    "titanic['fare'] = titanic['fare'].replace(['?'], [None]).astype(float)"
   ]
  },
  {
   "cell_type": "code",
   "execution_count": 2,
   "id": "ceb12123-2a87-4484-8242-d734825d025f",
   "metadata": {},
   "outputs": [
    {
     "data": {
      "text/plain": [
       "'hello'"
      ]
     },
     "execution_count": 2,
     "metadata": {},
     "output_type": "execute_result"
    }
   ],
   "source": [
    "'HELLO'.lower()"
   ]
  },
  {
   "cell_type": "code",
   "execution_count": 3,
   "id": "31e8ae5e-b111-4c34-a2f6-24afb5d52264",
   "metadata": {},
   "outputs": [
    {
     "data": {
      "text/plain": [
       "0                         ALLEN, MISS. ELISABETH WALTON\n",
       "1                        ALLISON, MASTER. HUDSON TREVOR\n",
       "2                          ALLISON, MISS. HELEN LORAINE\n",
       "3                  ALLISON, MR. HUDSON JOSHUA CREIGHTON\n",
       "4       ALLISON, MRS. HUDSON J C (BESSIE WALDO DANIELS)\n",
       "                             ...                       \n",
       "1304                               ZABOUR, MISS. HILENI\n",
       "1305                              ZABOUR, MISS. THAMINE\n",
       "1306                          ZAKARIAN, MR. MAPRIEDEDER\n",
       "1307                                ZAKARIAN, MR. ORTIN\n",
       "1308                                 ZIMMERMAN, MR. LEO\n",
       "Name: name, Length: 1309, dtype: object"
      ]
     },
     "execution_count": 3,
     "metadata": {},
     "output_type": "execute_result"
    }
   ],
   "source": [
    "titanic['name'].str.upper()"
   ]
  },
  {
   "cell_type": "code",
   "execution_count": 4,
   "id": "f45891ae-6583-4636-beb8-d45a216f4752",
   "metadata": {},
   "outputs": [
    {
     "data": {
      "text/plain": [
       "0       B\n",
       "1       C\n",
       "2       C\n",
       "3       C\n",
       "4       C\n",
       "       ..\n",
       "1304    ?\n",
       "1305    ?\n",
       "1306    ?\n",
       "1307    ?\n",
       "1308    ?\n",
       "Name: cabin, Length: 1309, dtype: object"
      ]
     },
     "execution_count": 4,
     "metadata": {},
     "output_type": "execute_result"
    }
   ],
   "source": [
    "titanic['cabin'].str[0]"
   ]
  },
  {
   "cell_type": "code",
   "execution_count": 5,
   "id": "99943bda-6343-4498-9880-281a46649a81",
   "metadata": {},
   "outputs": [],
   "source": [
    "s = pd.Series(['1.  Hawk.  ', '2. Pickle!\\n', '3. Melonhead?\\t'])"
   ]
  },
  {
   "cell_type": "code",
   "execution_count": 6,
   "id": "9f0e9d83-6408-4bc0-a4f5-d7c740ad2190",
   "metadata": {},
   "outputs": [
    {
     "data": {
      "text/plain": [
       "0        1.  Hawk.  \n",
       "1       2. Pickle!\\n\n",
       "2    3. Melonhead?\\t\n",
       "dtype: object"
      ]
     },
     "execution_count": 6,
     "metadata": {},
     "output_type": "execute_result"
    }
   ],
   "source": [
    "s"
   ]
  },
  {
   "cell_type": "code",
   "execution_count": 7,
   "id": "c8e123fa-5c72-4e98-a4fa-89356053188c",
   "metadata": {},
   "outputs": [
    {
     "data": {
      "text/plain": [
       "0        1.  Hawk.\n",
       "1       2. Pickle!\n",
       "2    3. Melonhead?\n",
       "dtype: object"
      ]
     },
     "execution_count": 7,
     "metadata": {},
     "output_type": "execute_result"
    }
   ],
   "source": [
    "s.str.strip()"
   ]
  },
  {
   "cell_type": "code",
   "execution_count": 8,
   "id": "07aba966-6072-418d-b49f-1ce8ecec107b",
   "metadata": {},
   "outputs": [
    {
     "data": {
      "text/plain": [
       "0        1.  Hawk.  \n",
       "1       2. Pickle!\\n\n",
       "2    3. Melonhead?\\t\n",
       "dtype: object"
      ]
     },
     "execution_count": 8,
     "metadata": {},
     "output_type": "execute_result"
    }
   ],
   "source": [
    "s.str.lstrip()"
   ]
  },
  {
   "cell_type": "code",
   "execution_count": 9,
   "id": "21d21860-b371-4a71-92f0-40999fe8029c",
   "metadata": {},
   "outputs": [
    {
     "data": {
      "text/plain": [
       "0        1.  Hawk.\n",
       "1       2. Pickle!\n",
       "2    3. Melonhead?\n",
       "dtype: object"
      ]
     },
     "execution_count": 9,
     "metadata": {},
     "output_type": "execute_result"
    }
   ],
   "source": [
    "s.str.rstrip()"
   ]
  },
  {
   "cell_type": "code",
   "execution_count": 10,
   "id": "b842ef94-f338-4a28-a5c2-b662791717be",
   "metadata": {},
   "outputs": [
    {
     "data": {
      "text/plain": [
       "0          Hawk.  \n",
       "1        Pickle!\\n\n",
       "2     Melonhead?\\t\n",
       "dtype: object"
      ]
     },
     "execution_count": 10,
     "metadata": {},
     "output_type": "execute_result"
    }
   ],
   "source": [
    "s.str.strip(to_strip='123.')"
   ]
  },
  {
   "cell_type": "code",
   "execution_count": 11,
   "id": "5d7aceb6-8687-4ec7-95be-07ffdb4a8e18",
   "metadata": {},
   "outputs": [
    {
     "data": {
      "text/plain": [
       "0                           [St Louis, MO]\n",
       "1       [Montreal, PQ ,  Chesterville, ON]\n",
       "2       [Montreal, PQ ,  Chesterville, ON]\n",
       "3       [Montreal, PQ ,  Chesterville, ON]\n",
       "4       [Montreal, PQ ,  Chesterville, ON]\n",
       "                       ...                \n",
       "1304                                   [?]\n",
       "1305                                   [?]\n",
       "1306                                   [?]\n",
       "1307                                   [?]\n",
       "1308                                   [?]\n",
       "Name: home.dest, Length: 1309, dtype: object"
      ]
     },
     "execution_count": 11,
     "metadata": {},
     "output_type": "execute_result"
    }
   ],
   "source": [
    "titanic['home.dest'].str.split('/')"
   ]
  },
  {
   "cell_type": "code",
   "execution_count": 37,
   "id": "92cb1e3e-0267-496c-a51a-1ab357534c9f",
   "metadata": {},
   "outputs": [
    {
     "data": {
      "text/html": [
       "<div>\n",
       "<style scoped>\n",
       "    .dataframe tbody tr th:only-of-type {\n",
       "        vertical-align: middle;\n",
       "    }\n",
       "\n",
       "    .dataframe tbody tr th {\n",
       "        vertical-align: top;\n",
       "    }\n",
       "\n",
       "    .dataframe thead th {\n",
       "        text-align: right;\n",
       "    }\n",
       "</style>\n",
       "<table border=\"1\" class=\"dataframe\">\n",
       "  <thead>\n",
       "    <tr style=\"text-align: right;\">\n",
       "      <th></th>\n",
       "      <th>0</th>\n",
       "      <th>1</th>\n",
       "      <th>2</th>\n",
       "    </tr>\n",
       "  </thead>\n",
       "  <tbody>\n",
       "    <tr>\n",
       "      <th>0</th>\n",
       "      <td>St Louis, MO</td>\n",
       "      <td>None</td>\n",
       "      <td>None</td>\n",
       "    </tr>\n",
       "    <tr>\n",
       "      <th>1</th>\n",
       "      <td>Montreal, PQ</td>\n",
       "      <td>Chesterville, ON</td>\n",
       "      <td>None</td>\n",
       "    </tr>\n",
       "    <tr>\n",
       "      <th>2</th>\n",
       "      <td>Montreal, PQ</td>\n",
       "      <td>Chesterville, ON</td>\n",
       "      <td>None</td>\n",
       "    </tr>\n",
       "    <tr>\n",
       "      <th>3</th>\n",
       "      <td>Montreal, PQ</td>\n",
       "      <td>Chesterville, ON</td>\n",
       "      <td>None</td>\n",
       "    </tr>\n",
       "    <tr>\n",
       "      <th>4</th>\n",
       "      <td>Montreal, PQ</td>\n",
       "      <td>Chesterville, ON</td>\n",
       "      <td>None</td>\n",
       "    </tr>\n",
       "    <tr>\n",
       "      <th>...</th>\n",
       "      <td>...</td>\n",
       "      <td>...</td>\n",
       "      <td>...</td>\n",
       "    </tr>\n",
       "    <tr>\n",
       "      <th>1304</th>\n",
       "      <td>?</td>\n",
       "      <td>None</td>\n",
       "      <td>None</td>\n",
       "    </tr>\n",
       "    <tr>\n",
       "      <th>1305</th>\n",
       "      <td>?</td>\n",
       "      <td>None</td>\n",
       "      <td>None</td>\n",
       "    </tr>\n",
       "    <tr>\n",
       "      <th>1306</th>\n",
       "      <td>?</td>\n",
       "      <td>None</td>\n",
       "      <td>None</td>\n",
       "    </tr>\n",
       "    <tr>\n",
       "      <th>1307</th>\n",
       "      <td>?</td>\n",
       "      <td>None</td>\n",
       "      <td>None</td>\n",
       "    </tr>\n",
       "    <tr>\n",
       "      <th>1308</th>\n",
       "      <td>?</td>\n",
       "      <td>None</td>\n",
       "      <td>None</td>\n",
       "    </tr>\n",
       "  </tbody>\n",
       "</table>\n",
       "<p>1309 rows × 3 columns</p>\n",
       "</div>"
      ],
      "text/plain": [
       "                  0                  1     2\n",
       "0      St Louis, MO               None  None\n",
       "1     Montreal, PQ    Chesterville, ON  None\n",
       "2     Montreal, PQ    Chesterville, ON  None\n",
       "3     Montreal, PQ    Chesterville, ON  None\n",
       "4     Montreal, PQ    Chesterville, ON  None\n",
       "...             ...                ...   ...\n",
       "1304              ?               None  None\n",
       "1305              ?               None  None\n",
       "1306              ?               None  None\n",
       "1307              ?               None  None\n",
       "1308              ?               None  None\n",
       "\n",
       "[1309 rows x 3 columns]"
      ]
     },
     "execution_count": 37,
     "metadata": {},
     "output_type": "execute_result"
    }
   ],
   "source": [
    "titanic['home.dest'].str.split('/', expand=True)"
   ]
  },
  {
   "cell_type": "code",
   "execution_count": 39,
   "id": "54db9986-f49c-4e01-98f3-2124d9bf2bac",
   "metadata": {},
   "outputs": [
    {
     "data": {
      "text/html": [
       "<div>\n",
       "<style scoped>\n",
       "    .dataframe tbody tr th:only-of-type {\n",
       "        vertical-align: middle;\n",
       "    }\n",
       "\n",
       "    .dataframe tbody tr th {\n",
       "        vertical-align: top;\n",
       "    }\n",
       "\n",
       "    .dataframe thead th {\n",
       "        text-align: right;\n",
       "    }\n",
       "</style>\n",
       "<table border=\"1\" class=\"dataframe\">\n",
       "  <thead>\n",
       "    <tr style=\"text-align: right;\">\n",
       "      <th></th>\n",
       "      <th>0</th>\n",
       "      <th>1</th>\n",
       "    </tr>\n",
       "  </thead>\n",
       "  <tbody>\n",
       "    <tr>\n",
       "      <th>0</th>\n",
       "      <td>St Louis, MO</td>\n",
       "      <td>None</td>\n",
       "    </tr>\n",
       "    <tr>\n",
       "      <th>1</th>\n",
       "      <td>Montreal, PQ</td>\n",
       "      <td>Chesterville, ON</td>\n",
       "    </tr>\n",
       "    <tr>\n",
       "      <th>2</th>\n",
       "      <td>Montreal, PQ</td>\n",
       "      <td>Chesterville, ON</td>\n",
       "    </tr>\n",
       "    <tr>\n",
       "      <th>3</th>\n",
       "      <td>Montreal, PQ</td>\n",
       "      <td>Chesterville, ON</td>\n",
       "    </tr>\n",
       "    <tr>\n",
       "      <th>4</th>\n",
       "      <td>Montreal, PQ</td>\n",
       "      <td>Chesterville, ON</td>\n",
       "    </tr>\n",
       "    <tr>\n",
       "      <th>...</th>\n",
       "      <td>...</td>\n",
       "      <td>...</td>\n",
       "    </tr>\n",
       "    <tr>\n",
       "      <th>1304</th>\n",
       "      <td>?</td>\n",
       "      <td>None</td>\n",
       "    </tr>\n",
       "    <tr>\n",
       "      <th>1305</th>\n",
       "      <td>?</td>\n",
       "      <td>None</td>\n",
       "    </tr>\n",
       "    <tr>\n",
       "      <th>1306</th>\n",
       "      <td>?</td>\n",
       "      <td>None</td>\n",
       "    </tr>\n",
       "    <tr>\n",
       "      <th>1307</th>\n",
       "      <td>?</td>\n",
       "      <td>None</td>\n",
       "    </tr>\n",
       "    <tr>\n",
       "      <th>1308</th>\n",
       "      <td>?</td>\n",
       "      <td>None</td>\n",
       "    </tr>\n",
       "  </tbody>\n",
       "</table>\n",
       "<p>1309 rows × 2 columns</p>\n",
       "</div>"
      ],
      "text/plain": [
       "                  0                  1\n",
       "0      St Louis, MO               None\n",
       "1     Montreal, PQ    Chesterville, ON\n",
       "2     Montreal, PQ    Chesterville, ON\n",
       "3     Montreal, PQ    Chesterville, ON\n",
       "4     Montreal, PQ    Chesterville, ON\n",
       "...             ...                ...\n",
       "1304              ?               None\n",
       "1305              ?               None\n",
       "1306              ?               None\n",
       "1307              ?               None\n",
       "1308              ?               None\n",
       "\n",
       "[1309 rows x 2 columns]"
      ]
     },
     "execution_count": 39,
     "metadata": {},
     "output_type": "execute_result"
    }
   ],
   "source": [
    "titanic['home.dest'].str.split('/', expand=True, n=1)"
   ]
  },
  {
   "cell_type": "code",
   "execution_count": 14,
   "id": "f1a1456f-5019-4672-aa6b-d8818ada8484",
   "metadata": {},
   "outputs": [],
   "source": [
    "titanic['home'] = titanic['home.dest'].str.split('/', expand=True)[0]"
   ]
  },
  {
   "cell_type": "code",
   "execution_count": 15,
   "id": "bf241f61-793f-4ee3-a948-c4aa5399a221",
   "metadata": {},
   "outputs": [
    {
     "data": {
      "text/html": [
       "<div>\n",
       "<style scoped>\n",
       "    .dataframe tbody tr th:only-of-type {\n",
       "        vertical-align: middle;\n",
       "    }\n",
       "\n",
       "    .dataframe tbody tr th {\n",
       "        vertical-align: top;\n",
       "    }\n",
       "\n",
       "    .dataframe thead th {\n",
       "        text-align: right;\n",
       "    }\n",
       "</style>\n",
       "<table border=\"1\" class=\"dataframe\">\n",
       "  <thead>\n",
       "    <tr style=\"text-align: right;\">\n",
       "      <th></th>\n",
       "      <th>pclass</th>\n",
       "      <th>survived</th>\n",
       "      <th>name</th>\n",
       "      <th>sex</th>\n",
       "      <th>age</th>\n",
       "      <th>sibsp</th>\n",
       "      <th>parch</th>\n",
       "      <th>ticket</th>\n",
       "      <th>fare</th>\n",
       "      <th>cabin</th>\n",
       "      <th>embarked</th>\n",
       "      <th>boat</th>\n",
       "      <th>body</th>\n",
       "      <th>home.dest</th>\n",
       "      <th>home</th>\n",
       "    </tr>\n",
       "  </thead>\n",
       "  <tbody>\n",
       "    <tr>\n",
       "      <th>0</th>\n",
       "      <td>1</td>\n",
       "      <td>1</td>\n",
       "      <td>Allen, Miss. Elisabeth Walton</td>\n",
       "      <td>female</td>\n",
       "      <td>29.0000</td>\n",
       "      <td>0</td>\n",
       "      <td>0</td>\n",
       "      <td>24160</td>\n",
       "      <td>211.3375</td>\n",
       "      <td>B5</td>\n",
       "      <td>S</td>\n",
       "      <td>2</td>\n",
       "      <td>?</td>\n",
       "      <td>St Louis, MO</td>\n",
       "      <td>St Louis, MO</td>\n",
       "    </tr>\n",
       "    <tr>\n",
       "      <th>1</th>\n",
       "      <td>1</td>\n",
       "      <td>1</td>\n",
       "      <td>Allison, Master. Hudson Trevor</td>\n",
       "      <td>male</td>\n",
       "      <td>0.9167</td>\n",
       "      <td>1</td>\n",
       "      <td>2</td>\n",
       "      <td>113781</td>\n",
       "      <td>151.5500</td>\n",
       "      <td>C22 C26</td>\n",
       "      <td>S</td>\n",
       "      <td>11</td>\n",
       "      <td>?</td>\n",
       "      <td>Montreal, PQ / Chesterville, ON</td>\n",
       "      <td>Montreal, PQ</td>\n",
       "    </tr>\n",
       "    <tr>\n",
       "      <th>2</th>\n",
       "      <td>1</td>\n",
       "      <td>0</td>\n",
       "      <td>Allison, Miss. Helen Loraine</td>\n",
       "      <td>female</td>\n",
       "      <td>2.0000</td>\n",
       "      <td>1</td>\n",
       "      <td>2</td>\n",
       "      <td>113781</td>\n",
       "      <td>151.5500</td>\n",
       "      <td>C22 C26</td>\n",
       "      <td>S</td>\n",
       "      <td>?</td>\n",
       "      <td>?</td>\n",
       "      <td>Montreal, PQ / Chesterville, ON</td>\n",
       "      <td>Montreal, PQ</td>\n",
       "    </tr>\n",
       "    <tr>\n",
       "      <th>3</th>\n",
       "      <td>1</td>\n",
       "      <td>0</td>\n",
       "      <td>Allison, Mr. Hudson Joshua Creighton</td>\n",
       "      <td>male</td>\n",
       "      <td>30.0000</td>\n",
       "      <td>1</td>\n",
       "      <td>2</td>\n",
       "      <td>113781</td>\n",
       "      <td>151.5500</td>\n",
       "      <td>C22 C26</td>\n",
       "      <td>S</td>\n",
       "      <td>?</td>\n",
       "      <td>135</td>\n",
       "      <td>Montreal, PQ / Chesterville, ON</td>\n",
       "      <td>Montreal, PQ</td>\n",
       "    </tr>\n",
       "    <tr>\n",
       "      <th>4</th>\n",
       "      <td>1</td>\n",
       "      <td>0</td>\n",
       "      <td>Allison, Mrs. Hudson J C (Bessie Waldo Daniels)</td>\n",
       "      <td>female</td>\n",
       "      <td>25.0000</td>\n",
       "      <td>1</td>\n",
       "      <td>2</td>\n",
       "      <td>113781</td>\n",
       "      <td>151.5500</td>\n",
       "      <td>C22 C26</td>\n",
       "      <td>S</td>\n",
       "      <td>?</td>\n",
       "      <td>?</td>\n",
       "      <td>Montreal, PQ / Chesterville, ON</td>\n",
       "      <td>Montreal, PQ</td>\n",
       "    </tr>\n",
       "    <tr>\n",
       "      <th>...</th>\n",
       "      <td>...</td>\n",
       "      <td>...</td>\n",
       "      <td>...</td>\n",
       "      <td>...</td>\n",
       "      <td>...</td>\n",
       "      <td>...</td>\n",
       "      <td>...</td>\n",
       "      <td>...</td>\n",
       "      <td>...</td>\n",
       "      <td>...</td>\n",
       "      <td>...</td>\n",
       "      <td>...</td>\n",
       "      <td>...</td>\n",
       "      <td>...</td>\n",
       "      <td>...</td>\n",
       "    </tr>\n",
       "    <tr>\n",
       "      <th>1304</th>\n",
       "      <td>3</td>\n",
       "      <td>0</td>\n",
       "      <td>Zabour, Miss. Hileni</td>\n",
       "      <td>female</td>\n",
       "      <td>14.5000</td>\n",
       "      <td>1</td>\n",
       "      <td>0</td>\n",
       "      <td>2665</td>\n",
       "      <td>14.4542</td>\n",
       "      <td>?</td>\n",
       "      <td>C</td>\n",
       "      <td>?</td>\n",
       "      <td>328</td>\n",
       "      <td>?</td>\n",
       "      <td>?</td>\n",
       "    </tr>\n",
       "    <tr>\n",
       "      <th>1305</th>\n",
       "      <td>3</td>\n",
       "      <td>0</td>\n",
       "      <td>Zabour, Miss. Thamine</td>\n",
       "      <td>female</td>\n",
       "      <td>NaN</td>\n",
       "      <td>1</td>\n",
       "      <td>0</td>\n",
       "      <td>2665</td>\n",
       "      <td>14.4542</td>\n",
       "      <td>?</td>\n",
       "      <td>C</td>\n",
       "      <td>?</td>\n",
       "      <td>?</td>\n",
       "      <td>?</td>\n",
       "      <td>?</td>\n",
       "    </tr>\n",
       "    <tr>\n",
       "      <th>1306</th>\n",
       "      <td>3</td>\n",
       "      <td>0</td>\n",
       "      <td>Zakarian, Mr. Mapriededer</td>\n",
       "      <td>male</td>\n",
       "      <td>26.5000</td>\n",
       "      <td>0</td>\n",
       "      <td>0</td>\n",
       "      <td>2656</td>\n",
       "      <td>7.2250</td>\n",
       "      <td>?</td>\n",
       "      <td>C</td>\n",
       "      <td>?</td>\n",
       "      <td>304</td>\n",
       "      <td>?</td>\n",
       "      <td>?</td>\n",
       "    </tr>\n",
       "    <tr>\n",
       "      <th>1307</th>\n",
       "      <td>3</td>\n",
       "      <td>0</td>\n",
       "      <td>Zakarian, Mr. Ortin</td>\n",
       "      <td>male</td>\n",
       "      <td>27.0000</td>\n",
       "      <td>0</td>\n",
       "      <td>0</td>\n",
       "      <td>2670</td>\n",
       "      <td>7.2250</td>\n",
       "      <td>?</td>\n",
       "      <td>C</td>\n",
       "      <td>?</td>\n",
       "      <td>?</td>\n",
       "      <td>?</td>\n",
       "      <td>?</td>\n",
       "    </tr>\n",
       "    <tr>\n",
       "      <th>1308</th>\n",
       "      <td>3</td>\n",
       "      <td>0</td>\n",
       "      <td>Zimmerman, Mr. Leo</td>\n",
       "      <td>male</td>\n",
       "      <td>29.0000</td>\n",
       "      <td>0</td>\n",
       "      <td>0</td>\n",
       "      <td>315082</td>\n",
       "      <td>7.8750</td>\n",
       "      <td>?</td>\n",
       "      <td>S</td>\n",
       "      <td>?</td>\n",
       "      <td>?</td>\n",
       "      <td>?</td>\n",
       "      <td>?</td>\n",
       "    </tr>\n",
       "  </tbody>\n",
       "</table>\n",
       "<p>1309 rows × 15 columns</p>\n",
       "</div>"
      ],
      "text/plain": [
       "      pclass  survived                                             name  \\\n",
       "0          1         1                    Allen, Miss. Elisabeth Walton   \n",
       "1          1         1                   Allison, Master. Hudson Trevor   \n",
       "2          1         0                     Allison, Miss. Helen Loraine   \n",
       "3          1         0             Allison, Mr. Hudson Joshua Creighton   \n",
       "4          1         0  Allison, Mrs. Hudson J C (Bessie Waldo Daniels)   \n",
       "...      ...       ...                                              ...   \n",
       "1304       3         0                             Zabour, Miss. Hileni   \n",
       "1305       3         0                            Zabour, Miss. Thamine   \n",
       "1306       3         0                        Zakarian, Mr. Mapriededer   \n",
       "1307       3         0                              Zakarian, Mr. Ortin   \n",
       "1308       3         0                               Zimmerman, Mr. Leo   \n",
       "\n",
       "         sex      age  sibsp  parch  ticket      fare    cabin embarked boat  \\\n",
       "0     female  29.0000      0      0   24160  211.3375       B5        S    2   \n",
       "1       male   0.9167      1      2  113781  151.5500  C22 C26        S   11   \n",
       "2     female   2.0000      1      2  113781  151.5500  C22 C26        S    ?   \n",
       "3       male  30.0000      1      2  113781  151.5500  C22 C26        S    ?   \n",
       "4     female  25.0000      1      2  113781  151.5500  C22 C26        S    ?   \n",
       "...      ...      ...    ...    ...     ...       ...      ...      ...  ...   \n",
       "1304  female  14.5000      1      0    2665   14.4542        ?        C    ?   \n",
       "1305  female      NaN      1      0    2665   14.4542        ?        C    ?   \n",
       "1306    male  26.5000      0      0    2656    7.2250        ?        C    ?   \n",
       "1307    male  27.0000      0      0    2670    7.2250        ?        C    ?   \n",
       "1308    male  29.0000      0      0  315082    7.8750        ?        S    ?   \n",
       "\n",
       "     body                        home.dest           home  \n",
       "0       ?                     St Louis, MO   St Louis, MO  \n",
       "1       ?  Montreal, PQ / Chesterville, ON  Montreal, PQ   \n",
       "2       ?  Montreal, PQ / Chesterville, ON  Montreal, PQ   \n",
       "3     135  Montreal, PQ / Chesterville, ON  Montreal, PQ   \n",
       "4       ?  Montreal, PQ / Chesterville, ON  Montreal, PQ   \n",
       "...   ...                              ...            ...  \n",
       "1304  328                                ?              ?  \n",
       "1305    ?                                ?              ?  \n",
       "1306  304                                ?              ?  \n",
       "1307    ?                                ?              ?  \n",
       "1308    ?                                ?              ?  \n",
       "\n",
       "[1309 rows x 15 columns]"
      ]
     },
     "execution_count": 15,
     "metadata": {},
     "output_type": "execute_result"
    }
   ],
   "source": [
    "titanic"
   ]
  },
  {
   "cell_type": "code",
   "execution_count": 16,
   "id": "b5acf9ea-7d3a-4328-990f-60fff9db5f21",
   "metadata": {},
   "outputs": [],
   "source": [
    "titanic['destination'] = titanic['home.dest'].str.split('/', expand=True)[1]"
   ]
  },
  {
   "cell_type": "code",
   "execution_count": 17,
   "id": "1fa8fc54-d61f-4325-9d7d-b882a201cc8a",
   "metadata": {},
   "outputs": [
    {
     "data": {
      "text/html": [
       "<div>\n",
       "<style scoped>\n",
       "    .dataframe tbody tr th:only-of-type {\n",
       "        vertical-align: middle;\n",
       "    }\n",
       "\n",
       "    .dataframe tbody tr th {\n",
       "        vertical-align: top;\n",
       "    }\n",
       "\n",
       "    .dataframe thead th {\n",
       "        text-align: right;\n",
       "    }\n",
       "</style>\n",
       "<table border=\"1\" class=\"dataframe\">\n",
       "  <thead>\n",
       "    <tr style=\"text-align: right;\">\n",
       "      <th></th>\n",
       "      <th>pclass</th>\n",
       "      <th>survived</th>\n",
       "      <th>name</th>\n",
       "      <th>sex</th>\n",
       "      <th>age</th>\n",
       "      <th>sibsp</th>\n",
       "      <th>parch</th>\n",
       "      <th>ticket</th>\n",
       "      <th>fare</th>\n",
       "      <th>cabin</th>\n",
       "      <th>embarked</th>\n",
       "      <th>boat</th>\n",
       "      <th>body</th>\n",
       "      <th>home.dest</th>\n",
       "      <th>home</th>\n",
       "      <th>destination</th>\n",
       "    </tr>\n",
       "  </thead>\n",
       "  <tbody>\n",
       "    <tr>\n",
       "      <th>0</th>\n",
       "      <td>1</td>\n",
       "      <td>1</td>\n",
       "      <td>Allen, Miss. Elisabeth Walton</td>\n",
       "      <td>female</td>\n",
       "      <td>29.0000</td>\n",
       "      <td>0</td>\n",
       "      <td>0</td>\n",
       "      <td>24160</td>\n",
       "      <td>211.3375</td>\n",
       "      <td>B5</td>\n",
       "      <td>S</td>\n",
       "      <td>2</td>\n",
       "      <td>?</td>\n",
       "      <td>St Louis, MO</td>\n",
       "      <td>St Louis, MO</td>\n",
       "      <td>None</td>\n",
       "    </tr>\n",
       "    <tr>\n",
       "      <th>1</th>\n",
       "      <td>1</td>\n",
       "      <td>1</td>\n",
       "      <td>Allison, Master. Hudson Trevor</td>\n",
       "      <td>male</td>\n",
       "      <td>0.9167</td>\n",
       "      <td>1</td>\n",
       "      <td>2</td>\n",
       "      <td>113781</td>\n",
       "      <td>151.5500</td>\n",
       "      <td>C22 C26</td>\n",
       "      <td>S</td>\n",
       "      <td>11</td>\n",
       "      <td>?</td>\n",
       "      <td>Montreal, PQ / Chesterville, ON</td>\n",
       "      <td>Montreal, PQ</td>\n",
       "      <td>Chesterville, ON</td>\n",
       "    </tr>\n",
       "    <tr>\n",
       "      <th>2</th>\n",
       "      <td>1</td>\n",
       "      <td>0</td>\n",
       "      <td>Allison, Miss. Helen Loraine</td>\n",
       "      <td>female</td>\n",
       "      <td>2.0000</td>\n",
       "      <td>1</td>\n",
       "      <td>2</td>\n",
       "      <td>113781</td>\n",
       "      <td>151.5500</td>\n",
       "      <td>C22 C26</td>\n",
       "      <td>S</td>\n",
       "      <td>?</td>\n",
       "      <td>?</td>\n",
       "      <td>Montreal, PQ / Chesterville, ON</td>\n",
       "      <td>Montreal, PQ</td>\n",
       "      <td>Chesterville, ON</td>\n",
       "    </tr>\n",
       "    <tr>\n",
       "      <th>3</th>\n",
       "      <td>1</td>\n",
       "      <td>0</td>\n",
       "      <td>Allison, Mr. Hudson Joshua Creighton</td>\n",
       "      <td>male</td>\n",
       "      <td>30.0000</td>\n",
       "      <td>1</td>\n",
       "      <td>2</td>\n",
       "      <td>113781</td>\n",
       "      <td>151.5500</td>\n",
       "      <td>C22 C26</td>\n",
       "      <td>S</td>\n",
       "      <td>?</td>\n",
       "      <td>135</td>\n",
       "      <td>Montreal, PQ / Chesterville, ON</td>\n",
       "      <td>Montreal, PQ</td>\n",
       "      <td>Chesterville, ON</td>\n",
       "    </tr>\n",
       "    <tr>\n",
       "      <th>4</th>\n",
       "      <td>1</td>\n",
       "      <td>0</td>\n",
       "      <td>Allison, Mrs. Hudson J C (Bessie Waldo Daniels)</td>\n",
       "      <td>female</td>\n",
       "      <td>25.0000</td>\n",
       "      <td>1</td>\n",
       "      <td>2</td>\n",
       "      <td>113781</td>\n",
       "      <td>151.5500</td>\n",
       "      <td>C22 C26</td>\n",
       "      <td>S</td>\n",
       "      <td>?</td>\n",
       "      <td>?</td>\n",
       "      <td>Montreal, PQ / Chesterville, ON</td>\n",
       "      <td>Montreal, PQ</td>\n",
       "      <td>Chesterville, ON</td>\n",
       "    </tr>\n",
       "    <tr>\n",
       "      <th>...</th>\n",
       "      <td>...</td>\n",
       "      <td>...</td>\n",
       "      <td>...</td>\n",
       "      <td>...</td>\n",
       "      <td>...</td>\n",
       "      <td>...</td>\n",
       "      <td>...</td>\n",
       "      <td>...</td>\n",
       "      <td>...</td>\n",
       "      <td>...</td>\n",
       "      <td>...</td>\n",
       "      <td>...</td>\n",
       "      <td>...</td>\n",
       "      <td>...</td>\n",
       "      <td>...</td>\n",
       "      <td>...</td>\n",
       "    </tr>\n",
       "    <tr>\n",
       "      <th>1304</th>\n",
       "      <td>3</td>\n",
       "      <td>0</td>\n",
       "      <td>Zabour, Miss. Hileni</td>\n",
       "      <td>female</td>\n",
       "      <td>14.5000</td>\n",
       "      <td>1</td>\n",
       "      <td>0</td>\n",
       "      <td>2665</td>\n",
       "      <td>14.4542</td>\n",
       "      <td>?</td>\n",
       "      <td>C</td>\n",
       "      <td>?</td>\n",
       "      <td>328</td>\n",
       "      <td>?</td>\n",
       "      <td>?</td>\n",
       "      <td>None</td>\n",
       "    </tr>\n",
       "    <tr>\n",
       "      <th>1305</th>\n",
       "      <td>3</td>\n",
       "      <td>0</td>\n",
       "      <td>Zabour, Miss. Thamine</td>\n",
       "      <td>female</td>\n",
       "      <td>NaN</td>\n",
       "      <td>1</td>\n",
       "      <td>0</td>\n",
       "      <td>2665</td>\n",
       "      <td>14.4542</td>\n",
       "      <td>?</td>\n",
       "      <td>C</td>\n",
       "      <td>?</td>\n",
       "      <td>?</td>\n",
       "      <td>?</td>\n",
       "      <td>?</td>\n",
       "      <td>None</td>\n",
       "    </tr>\n",
       "    <tr>\n",
       "      <th>1306</th>\n",
       "      <td>3</td>\n",
       "      <td>0</td>\n",
       "      <td>Zakarian, Mr. Mapriededer</td>\n",
       "      <td>male</td>\n",
       "      <td>26.5000</td>\n",
       "      <td>0</td>\n",
       "      <td>0</td>\n",
       "      <td>2656</td>\n",
       "      <td>7.2250</td>\n",
       "      <td>?</td>\n",
       "      <td>C</td>\n",
       "      <td>?</td>\n",
       "      <td>304</td>\n",
       "      <td>?</td>\n",
       "      <td>?</td>\n",
       "      <td>None</td>\n",
       "    </tr>\n",
       "    <tr>\n",
       "      <th>1307</th>\n",
       "      <td>3</td>\n",
       "      <td>0</td>\n",
       "      <td>Zakarian, Mr. Ortin</td>\n",
       "      <td>male</td>\n",
       "      <td>27.0000</td>\n",
       "      <td>0</td>\n",
       "      <td>0</td>\n",
       "      <td>2670</td>\n",
       "      <td>7.2250</td>\n",
       "      <td>?</td>\n",
       "      <td>C</td>\n",
       "      <td>?</td>\n",
       "      <td>?</td>\n",
       "      <td>?</td>\n",
       "      <td>?</td>\n",
       "      <td>None</td>\n",
       "    </tr>\n",
       "    <tr>\n",
       "      <th>1308</th>\n",
       "      <td>3</td>\n",
       "      <td>0</td>\n",
       "      <td>Zimmerman, Mr. Leo</td>\n",
       "      <td>male</td>\n",
       "      <td>29.0000</td>\n",
       "      <td>0</td>\n",
       "      <td>0</td>\n",
       "      <td>315082</td>\n",
       "      <td>7.8750</td>\n",
       "      <td>?</td>\n",
       "      <td>S</td>\n",
       "      <td>?</td>\n",
       "      <td>?</td>\n",
       "      <td>?</td>\n",
       "      <td>?</td>\n",
       "      <td>None</td>\n",
       "    </tr>\n",
       "  </tbody>\n",
       "</table>\n",
       "<p>1309 rows × 16 columns</p>\n",
       "</div>"
      ],
      "text/plain": [
       "      pclass  survived                                             name  \\\n",
       "0          1         1                    Allen, Miss. Elisabeth Walton   \n",
       "1          1         1                   Allison, Master. Hudson Trevor   \n",
       "2          1         0                     Allison, Miss. Helen Loraine   \n",
       "3          1         0             Allison, Mr. Hudson Joshua Creighton   \n",
       "4          1         0  Allison, Mrs. Hudson J C (Bessie Waldo Daniels)   \n",
       "...      ...       ...                                              ...   \n",
       "1304       3         0                             Zabour, Miss. Hileni   \n",
       "1305       3         0                            Zabour, Miss. Thamine   \n",
       "1306       3         0                        Zakarian, Mr. Mapriededer   \n",
       "1307       3         0                              Zakarian, Mr. Ortin   \n",
       "1308       3         0                               Zimmerman, Mr. Leo   \n",
       "\n",
       "         sex      age  sibsp  parch  ticket      fare    cabin embarked boat  \\\n",
       "0     female  29.0000      0      0   24160  211.3375       B5        S    2   \n",
       "1       male   0.9167      1      2  113781  151.5500  C22 C26        S   11   \n",
       "2     female   2.0000      1      2  113781  151.5500  C22 C26        S    ?   \n",
       "3       male  30.0000      1      2  113781  151.5500  C22 C26        S    ?   \n",
       "4     female  25.0000      1      2  113781  151.5500  C22 C26        S    ?   \n",
       "...      ...      ...    ...    ...     ...       ...      ...      ...  ...   \n",
       "1304  female  14.5000      1      0    2665   14.4542        ?        C    ?   \n",
       "1305  female      NaN      1      0    2665   14.4542        ?        C    ?   \n",
       "1306    male  26.5000      0      0    2656    7.2250        ?        C    ?   \n",
       "1307    male  27.0000      0      0    2670    7.2250        ?        C    ?   \n",
       "1308    male  29.0000      0      0  315082    7.8750        ?        S    ?   \n",
       "\n",
       "     body                        home.dest           home        destination  \n",
       "0       ?                     St Louis, MO   St Louis, MO               None  \n",
       "1       ?  Montreal, PQ / Chesterville, ON  Montreal, PQ    Chesterville, ON  \n",
       "2       ?  Montreal, PQ / Chesterville, ON  Montreal, PQ    Chesterville, ON  \n",
       "3     135  Montreal, PQ / Chesterville, ON  Montreal, PQ    Chesterville, ON  \n",
       "4       ?  Montreal, PQ / Chesterville, ON  Montreal, PQ    Chesterville, ON  \n",
       "...   ...                              ...            ...                ...  \n",
       "1304  328                                ?              ?               None  \n",
       "1305    ?                                ?              ?               None  \n",
       "1306  304                                ?              ?               None  \n",
       "1307    ?                                ?              ?               None  \n",
       "1308    ?                                ?              ?               None  \n",
       "\n",
       "[1309 rows x 16 columns]"
      ]
     },
     "execution_count": 17,
     "metadata": {},
     "output_type": "execute_result"
    }
   ],
   "source": [
    "titanic"
   ]
  },
  {
   "cell_type": "code",
   "execution_count": 18,
   "id": "87967b46-1977-400a-98ad-d25b26c6e553",
   "metadata": {},
   "outputs": [
    {
     "data": {
      "text/plain": [
       "0          5 seconds\n",
       "1        3-5 seconds\n",
       "2                NaN\n",
       "3         10 seconds\n",
       "4          2 minutes\n",
       "            ...     \n",
       "88120      3 minutes\n",
       "88121     20 seconds\n",
       "88122     20 seconds\n",
       "88123      2 minutes\n",
       "88124      3 minutes\n",
       "Name: duration, Length: 88125, dtype: object"
      ]
     },
     "execution_count": 18,
     "metadata": {},
     "output_type": "execute_result"
    }
   ],
   "source": [
    "ufos['duration']"
   ]
  },
  {
   "cell_type": "code",
   "execution_count": 19,
   "id": "61f66e37-b963-41ec-8360-e0629d2b5ded",
   "metadata": {},
   "outputs": [
    {
     "data": {
      "text/plain": [
       "0          5 \n",
       "1        3-5 \n",
       "2         NaN\n",
       "3         10 \n",
       "4          2 \n",
       "         ... \n",
       "88120      3 \n",
       "88121     20 \n",
       "88122     20 \n",
       "88123      2 \n",
       "88124      3 \n",
       "Name: duration, Length: 88125, dtype: object"
      ]
     },
     "execution_count": 19,
     "metadata": {},
     "output_type": "execute_result"
    }
   ],
   "source": [
    "ufos['duration'].str.replace('seconds|minutes', '', regex = True)"
   ]
  },
  {
   "cell_type": "code",
   "execution_count": 43,
   "id": "58cf203a-a69c-4796-882c-6d0f0849d8f1",
   "metadata": {},
   "outputs": [
    {
     "data": {
      "text/plain": [
       "0        False\n",
       "1        False\n",
       "2          NaN\n",
       "3        False\n",
       "4        False\n",
       "         ...  \n",
       "88120    False\n",
       "88121    False\n",
       "88122    False\n",
       "88123    False\n",
       "88124    False\n",
       "Name: duration, Length: 88125, dtype: object"
      ]
     },
     "execution_count": 43,
     "metadata": {},
     "output_type": "execute_result"
    }
   ],
   "source": [
    "ufos['duration'].str.contains('hour')"
   ]
  },
  {
   "cell_type": "code",
   "execution_count": 45,
   "id": "304c6293-df79-4864-b210-6dc40f682604",
   "metadata": {},
   "outputs": [
    {
     "data": {
      "text/html": [
       "<div>\n",
       "<style scoped>\n",
       "    .dataframe tbody tr th:only-of-type {\n",
       "        vertical-align: middle;\n",
       "    }\n",
       "\n",
       "    .dataframe tbody tr th {\n",
       "        vertical-align: top;\n",
       "    }\n",
       "\n",
       "    .dataframe thead th {\n",
       "        text-align: right;\n",
       "    }\n",
       "</style>\n",
       "<table border=\"1\" class=\"dataframe\">\n",
       "  <thead>\n",
       "    <tr style=\"text-align: right;\">\n",
       "      <th></th>\n",
       "      <th>summary</th>\n",
       "      <th>city</th>\n",
       "      <th>state</th>\n",
       "      <th>date_time</th>\n",
       "      <th>shape</th>\n",
       "      <th>duration</th>\n",
       "      <th>stats</th>\n",
       "      <th>report_link</th>\n",
       "      <th>text</th>\n",
       "      <th>posted</th>\n",
       "      <th>city_latitude</th>\n",
       "      <th>city_longitude</th>\n",
       "    </tr>\n",
       "  </thead>\n",
       "  <tbody>\n",
       "    <tr>\n",
       "      <th>10</th>\n",
       "      <td>Metal orb of wires that was seen through a tel...</td>\n",
       "      <td>Brookville</td>\n",
       "      <td>IN</td>\n",
       "      <td>2019-06-18T21:00:00</td>\n",
       "      <td>sphere</td>\n",
       "      <td>1 hour</td>\n",
       "      <td>Occurred : 6/18/2019 21:00  (Entered as : 6/18...</td>\n",
       "      <td>http://www.nuforc.org/webreports/146/S146900.html</td>\n",
       "      <td>Metal orb of wires that was seen through a tel...</td>\n",
       "      <td>2019-06-20T00:00:00</td>\n",
       "      <td>39.404700</td>\n",
       "      <td>-84.973600</td>\n",
       "    </tr>\n",
       "    <tr>\n",
       "      <th>14</th>\n",
       "      <td>Bright Circle of Light followed me from Oskalo...</td>\n",
       "      <td>Centerville</td>\n",
       "      <td>IA</td>\n",
       "      <td>1999-08-15T02:30:00</td>\n",
       "      <td>circle</td>\n",
       "      <td>1 hour</td>\n",
       "      <td>Occurred : 8/15/1999 02:30  (Entered as : 08/1...</td>\n",
       "      <td>http://www.nuforc.org/webreports/146/S146702.html</td>\n",
       "      <td>Bright Circle of Light followed me from Oskalo...</td>\n",
       "      <td>2019-06-20T00:00:00</td>\n",
       "      <td>40.707400</td>\n",
       "      <td>-92.921300</td>\n",
       "    </tr>\n",
       "    <tr>\n",
       "      <th>36</th>\n",
       "      <td>Looked like airplanes without windows,  wings,...</td>\n",
       "      <td>Morehouse</td>\n",
       "      <td>MO</td>\n",
       "      <td>NaN</td>\n",
       "      <td>cylinder</td>\n",
       "      <td>hours</td>\n",
       "      <td>Occurred : 7/15/1947 21:00  (Entered as : 07/?...</td>\n",
       "      <td>http://www.nuforc.org/webreports/049/S49557.html</td>\n",
       "      <td>Looked like airplanes without windows, wings, ...</td>\n",
       "      <td>NaN</td>\n",
       "      <td>36.849900</td>\n",
       "      <td>-89.677200</td>\n",
       "    </tr>\n",
       "    <tr>\n",
       "      <th>37</th>\n",
       "      <td>01/20/51     Palm Springs CA     light     hou...</td>\n",
       "      <td>Palm Springs</td>\n",
       "      <td>CA</td>\n",
       "      <td>NaN</td>\n",
       "      <td>cigar</td>\n",
       "      <td>one and a half hours</td>\n",
       "      <td>Occurred : 1/20/1951 04:30  (Entered as : 01/2...</td>\n",
       "      <td>http://www.nuforc.org/webreports/050/S50060.html</td>\n",
       "      <td>01/20/51     Palm Springs CA     light     hou...</td>\n",
       "      <td>NaN</td>\n",
       "      <td>33.800165</td>\n",
       "      <td>-116.535373</td>\n",
       "    </tr>\n",
       "    <tr>\n",
       "      <th>40</th>\n",
       "      <td>5/16/1958/ 1500 hours/ just getting dark,mount...</td>\n",
       "      <td>Cincinnati</td>\n",
       "      <td>OH</td>\n",
       "      <td>NaN</td>\n",
       "      <td>diamond</td>\n",
       "      <td>24 hours</td>\n",
       "      <td>Occurred : 5/16/1958   (Entered as : 05/16/58)...</td>\n",
       "      <td>http://www.nuforc.org/webreports/049/S49850.html</td>\n",
       "      <td>5/16/1958/ 1500 hours/ just getting dark,mount...</td>\n",
       "      <td>NaN</td>\n",
       "      <td>39.174503</td>\n",
       "      <td>-84.481363</td>\n",
       "    </tr>\n",
       "    <tr>\n",
       "      <th>...</th>\n",
       "      <td>...</td>\n",
       "      <td>...</td>\n",
       "      <td>...</td>\n",
       "      <td>...</td>\n",
       "      <td>...</td>\n",
       "      <td>...</td>\n",
       "      <td>...</td>\n",
       "      <td>...</td>\n",
       "      <td>...</td>\n",
       "      <td>...</td>\n",
       "      <td>...</td>\n",
       "      <td>...</td>\n",
       "    </tr>\n",
       "    <tr>\n",
       "      <th>88013</th>\n",
       "      <td>Unidentified flying object seen multiple night...</td>\n",
       "      <td>New port richey</td>\n",
       "      <td>FL</td>\n",
       "      <td>2019-09-27T21:00:00</td>\n",
       "      <td>unknown</td>\n",
       "      <td>1 hour</td>\n",
       "      <td>Occurred : 9/27/2019 21:00  (Entered as : 09/2...</td>\n",
       "      <td>http://www.nuforc.org/webreports/149/S149318.html</td>\n",
       "      <td>Unidentified flying object seen multiple night...</td>\n",
       "      <td>2019-10-04T00:00:00</td>\n",
       "      <td>28.242700</td>\n",
       "      <td>-82.677239</td>\n",
       "    </tr>\n",
       "    <tr>\n",
       "      <th>88018</th>\n",
       "      <td>On balcony enjoying a beautiful night by the b...</td>\n",
       "      <td>New York</td>\n",
       "      <td>NY</td>\n",
       "      <td>2019-09-27T22:00:00</td>\n",
       "      <td>light</td>\n",
       "      <td>1 hour</td>\n",
       "      <td>Occurred : 9/27/2019 22:00  (Entered as : 09/2...</td>\n",
       "      <td>http://www.nuforc.org/webreports/149/S149283.html</td>\n",
       "      <td>On balcony enjoying a beautiful night by the b...</td>\n",
       "      <td>2019-10-04T00:00:00</td>\n",
       "      <td>40.744307</td>\n",
       "      <td>-73.987724</td>\n",
       "    </tr>\n",
       "    <tr>\n",
       "      <th>88064</th>\n",
       "      <td>Unidentified object moving very slowly across ...</td>\n",
       "      <td>Pt. St. Lucie</td>\n",
       "      <td>FL</td>\n",
       "      <td>2019-09-29T17:00:00</td>\n",
       "      <td>circle</td>\n",
       "      <td>1.5 hours</td>\n",
       "      <td>Occurred : 9/29/2019 17:00  (Entered as : 09/2...</td>\n",
       "      <td>http://www.nuforc.org/webreports/149/S149338.html</td>\n",
       "      <td>Unidentified object moving very slowly across ...</td>\n",
       "      <td>2019-10-04T00:00:00</td>\n",
       "      <td>NaN</td>\n",
       "      <td>NaN</td>\n",
       "    </tr>\n",
       "    <tr>\n",
       "      <th>88065</th>\n",
       "      <td>White circular object above Ft Pierce</td>\n",
       "      <td>Fort Pierce</td>\n",
       "      <td>FL</td>\n",
       "      <td>2019-09-29T17:20:00</td>\n",
       "      <td>circle</td>\n",
       "      <td>1:30 hours</td>\n",
       "      <td>Occurred : 9/29/2019 17:20  (Entered as : 9/29...</td>\n",
       "      <td>http://www.nuforc.org/webreports/149/S149345.html</td>\n",
       "      <td>White circular object above Ft Pierce Very lar...</td>\n",
       "      <td>2019-10-04T00:00:00</td>\n",
       "      <td>NaN</td>\n",
       "      <td>NaN</td>\n",
       "    </tr>\n",
       "    <tr>\n",
       "      <th>88073</th>\n",
       "      <td>Lights in Texas sky</td>\n",
       "      <td>Slocum</td>\n",
       "      <td>TX</td>\n",
       "      <td>2019-09-29T23:00:00</td>\n",
       "      <td>light</td>\n",
       "      <td>&gt;1 hour</td>\n",
       "      <td>Occurred : 9/29/2019 23:00  (Entered as : 09/2...</td>\n",
       "      <td>http://www.nuforc.org/webreports/149/S149344.html</td>\n",
       "      <td>Lights in Texas sky Saw a strange bright light...</td>\n",
       "      <td>2019-10-04T00:00:00</td>\n",
       "      <td>NaN</td>\n",
       "      <td>NaN</td>\n",
       "    </tr>\n",
       "  </tbody>\n",
       "</table>\n",
       "<p>4656 rows × 12 columns</p>\n",
       "</div>"
      ],
      "text/plain": [
       "                                                 summary             city  \\\n",
       "10     Metal orb of wires that was seen through a tel...       Brookville   \n",
       "14     Bright Circle of Light followed me from Oskalo...      Centerville   \n",
       "36     Looked like airplanes without windows,  wings,...        Morehouse   \n",
       "37     01/20/51     Palm Springs CA     light     hou...     Palm Springs   \n",
       "40     5/16/1958/ 1500 hours/ just getting dark,mount...       Cincinnati   \n",
       "...                                                  ...              ...   \n",
       "88013  Unidentified flying object seen multiple night...  New port richey   \n",
       "88018  On balcony enjoying a beautiful night by the b...         New York   \n",
       "88064  Unidentified object moving very slowly across ...    Pt. St. Lucie   \n",
       "88065              White circular object above Ft Pierce      Fort Pierce   \n",
       "88073                                Lights in Texas sky           Slocum   \n",
       "\n",
       "      state            date_time     shape              duration  \\\n",
       "10       IN  2019-06-18T21:00:00    sphere                1 hour   \n",
       "14       IA  1999-08-15T02:30:00    circle                1 hour   \n",
       "36       MO                  NaN  cylinder                 hours   \n",
       "37       CA                  NaN     cigar  one and a half hours   \n",
       "40       OH                  NaN   diamond              24 hours   \n",
       "...     ...                  ...       ...                   ...   \n",
       "88013    FL  2019-09-27T21:00:00   unknown                1 hour   \n",
       "88018    NY  2019-09-27T22:00:00     light                1 hour   \n",
       "88064    FL  2019-09-29T17:00:00    circle             1.5 hours   \n",
       "88065    FL  2019-09-29T17:20:00    circle            1:30 hours   \n",
       "88073    TX  2019-09-29T23:00:00     light               >1 hour   \n",
       "\n",
       "                                                   stats  \\\n",
       "10     Occurred : 6/18/2019 21:00  (Entered as : 6/18...   \n",
       "14     Occurred : 8/15/1999 02:30  (Entered as : 08/1...   \n",
       "36     Occurred : 7/15/1947 21:00  (Entered as : 07/?...   \n",
       "37     Occurred : 1/20/1951 04:30  (Entered as : 01/2...   \n",
       "40     Occurred : 5/16/1958   (Entered as : 05/16/58)...   \n",
       "...                                                  ...   \n",
       "88013  Occurred : 9/27/2019 21:00  (Entered as : 09/2...   \n",
       "88018  Occurred : 9/27/2019 22:00  (Entered as : 09/2...   \n",
       "88064  Occurred : 9/29/2019 17:00  (Entered as : 09/2...   \n",
       "88065  Occurred : 9/29/2019 17:20  (Entered as : 9/29...   \n",
       "88073  Occurred : 9/29/2019 23:00  (Entered as : 09/2...   \n",
       "\n",
       "                                             report_link  \\\n",
       "10     http://www.nuforc.org/webreports/146/S146900.html   \n",
       "14     http://www.nuforc.org/webreports/146/S146702.html   \n",
       "36      http://www.nuforc.org/webreports/049/S49557.html   \n",
       "37      http://www.nuforc.org/webreports/050/S50060.html   \n",
       "40      http://www.nuforc.org/webreports/049/S49850.html   \n",
       "...                                                  ...   \n",
       "88013  http://www.nuforc.org/webreports/149/S149318.html   \n",
       "88018  http://www.nuforc.org/webreports/149/S149283.html   \n",
       "88064  http://www.nuforc.org/webreports/149/S149338.html   \n",
       "88065  http://www.nuforc.org/webreports/149/S149345.html   \n",
       "88073  http://www.nuforc.org/webreports/149/S149344.html   \n",
       "\n",
       "                                                    text               posted  \\\n",
       "10     Metal orb of wires that was seen through a tel...  2019-06-20T00:00:00   \n",
       "14     Bright Circle of Light followed me from Oskalo...  2019-06-20T00:00:00   \n",
       "36     Looked like airplanes without windows, wings, ...                  NaN   \n",
       "37     01/20/51     Palm Springs CA     light     hou...                  NaN   \n",
       "40     5/16/1958/ 1500 hours/ just getting dark,mount...                  NaN   \n",
       "...                                                  ...                  ...   \n",
       "88013  Unidentified flying object seen multiple night...  2019-10-04T00:00:00   \n",
       "88018  On balcony enjoying a beautiful night by the b...  2019-10-04T00:00:00   \n",
       "88064  Unidentified object moving very slowly across ...  2019-10-04T00:00:00   \n",
       "88065  White circular object above Ft Pierce Very lar...  2019-10-04T00:00:00   \n",
       "88073  Lights in Texas sky Saw a strange bright light...  2019-10-04T00:00:00   \n",
       "\n",
       "       city_latitude  city_longitude  \n",
       "10         39.404700      -84.973600  \n",
       "14         40.707400      -92.921300  \n",
       "36         36.849900      -89.677200  \n",
       "37         33.800165     -116.535373  \n",
       "40         39.174503      -84.481363  \n",
       "...              ...             ...  \n",
       "88013      28.242700      -82.677239  \n",
       "88018      40.744307      -73.987724  \n",
       "88064            NaN             NaN  \n",
       "88065            NaN             NaN  \n",
       "88073            NaN             NaN  \n",
       "\n",
       "[4656 rows x 12 columns]"
      ]
     },
     "execution_count": 45,
     "metadata": {},
     "output_type": "execute_result"
    }
   ],
   "source": [
    "ufos[ufos['duration'].str.contains('hour', na=False)]"
   ]
  },
  {
   "cell_type": "code",
   "execution_count": 22,
   "id": "666b2cd9-759c-49a3-a283-eed9223ca957",
   "metadata": {},
   "outputs": [],
   "source": [
    "def get_age_group(age):\n",
    "    if age < 2:\n",
    "        return 'infant'\n",
    "    elif age < 12:\n",
    "        return 'child'\n",
    "    elif age < 18:\n",
    "        return 'teen'\n",
    "    elif age < 50:\n",
    "        return 'adult'\n",
    "    else:\n",
    "        return 'senior'"
   ]
  },
  {
   "cell_type": "code",
   "execution_count": 23,
   "id": "4a017e83-3bf2-47ee-9fa5-ab8588aeca85",
   "metadata": {},
   "outputs": [
    {
     "data": {
      "text/plain": [
       "0        adult\n",
       "1       infant\n",
       "2        child\n",
       "3        adult\n",
       "4        adult\n",
       "         ...  \n",
       "1304      teen\n",
       "1305    senior\n",
       "1306     adult\n",
       "1307     adult\n",
       "1308     adult\n",
       "Name: age, Length: 1309, dtype: object"
      ]
     },
     "execution_count": 23,
     "metadata": {},
     "output_type": "execute_result"
    }
   ],
   "source": [
    "titanic['age'].apply(get_age_group)"
   ]
  },
  {
   "cell_type": "code",
   "execution_count": 24,
   "id": "0db5627f-e143-436e-8859-a9ae4bdf8028",
   "metadata": {},
   "outputs": [],
   "source": [
    "titanic['age_group'] = titanic['age'].apply(get_age_group)"
   ]
  },
  {
   "cell_type": "code",
   "execution_count": 25,
   "id": "b00e5056-b729-4c1d-98b1-565e5058950e",
   "metadata": {},
   "outputs": [
    {
     "data": {
      "text/plain": [
       "adult     782\n",
       "senior    373\n",
       "child      69\n",
       "teen       63\n",
       "infant     22\n",
       "Name: age_group, dtype: int64"
      ]
     },
     "execution_count": 25,
     "metadata": {},
     "output_type": "execute_result"
    }
   ],
   "source": [
    "titanic.age_group.value_counts()"
   ]
  },
  {
   "cell_type": "code",
   "execution_count": 26,
   "id": "c84e45cc-3fc2-4212-995a-66006a2d914c",
   "metadata": {},
   "outputs": [
    {
     "data": {
      "text/plain": [
       "<AxesSubplot:xlabel='age_group'>"
      ]
     },
     "execution_count": 26,
     "metadata": {},
     "output_type": "execute_result"
    },
    {
     "data": {
      "image/png": "[encoded data removed]",
      "text/plain": [
       "<Figure size 432x288 with 1 Axes>"
      ]
     },
     "metadata": {
      "needs_background": "light"
     },
     "output_type": "display_data"
    }
   ],
   "source": [
    "titanic.groupby(['age_group', 'sex']).survived.mean().unstack().plot( kind = 'bar')\n"
   ]
  },
  {
   "cell_type": "code",
   "execution_count": 27,
   "id": "fb90bd52-5c58-466c-bcf1-27984a85b58a",
   "metadata": {},
   "outputs": [
    {
     "data": {
      "text/plain": [
       "0                   $5072.1\n",
       "1       $3637.2000000000003\n",
       "2       $3637.2000000000003\n",
       "3       $3637.2000000000003\n",
       "4       $3637.2000000000003\n",
       "               ...         \n",
       "1304              $346.9008\n",
       "1305              $346.9008\n",
       "1306    $173.39999999999998\n",
       "1307    $173.39999999999998\n",
       "1308                 $189.0\n",
       "Name: fare, Length: 1309, dtype: object"
      ]
     },
     "execution_count": 27,
     "metadata": {},
     "output_type": "execute_result"
    }
   ],
   "source": [
    "titanic['fare'].apply(lambda x: f\"${x * 24}\")"
   ]
  },
  {
   "cell_type": "code",
   "execution_count": 28,
   "id": "027595be-f12c-4628-89d8-e16638e14143",
   "metadata": {},
   "outputs": [],
   "source": [
    "def get_fam_size(s):\n",
    "    fam_size = s.sibsp + s.parch\n",
    "    if fam_size == 0:\n",
    "        return 'solo'\n",
    "    elif fam_size < 5:\n",
    "        return 'average'\n",
    "    else:\n",
    "        return 'large'"
   ]
  },
  {
   "cell_type": "code",
   "execution_count": 29,
   "id": "8302396f-0e47-4eda-b5ab-516e7a72d6cc",
   "metadata": {},
   "outputs": [
    {
     "data": {
      "text/plain": [
       "0          solo\n",
       "1       average\n",
       "2       average\n",
       "3       average\n",
       "4       average\n",
       "         ...   \n",
       "1304    average\n",
       "1305    average\n",
       "1306       solo\n",
       "1307       solo\n",
       "1308       solo\n",
       "Length: 1309, dtype: object"
      ]
     },
     "execution_count": 29,
     "metadata": {},
     "output_type": "execute_result"
    }
   ],
   "source": [
    "titanic.apply(get_fam_size, axis = 1)"
   ]
  },
  {
   "cell_type": "code",
   "execution_count": 30,
   "id": "3dd91b10-6aaa-4a0f-9e87-310f52f9fdd0",
   "metadata": {},
   "outputs": [],
   "source": [
    "titanic['fam_size'] = titanic.apply(get_fam_size, axis = 1)"
   ]
  },
  {
   "cell_type": "code",
   "execution_count": 31,
   "id": "c49e7902-d480-4c39-a654-9fc6d1015c57",
   "metadata": {},
   "outputs": [
    {
     "data": {
      "text/plain": [
       "solo       790\n",
       "average    459\n",
       "large       60\n",
       "Name: fam_size, dtype: int64"
      ]
     },
     "execution_count": 31,
     "metadata": {},
     "output_type": "execute_result"
    }
   ],
   "source": [
    "titanic['fam_size'].value_counts()"
   ]
  },
  {
   "cell_type": "code",
   "execution_count": 32,
   "id": "3588450f-5883-4bee-8a7b-4aabc10eb846",
   "metadata": {},
   "outputs": [
    {
     "data": {
      "text/plain": [
       "fam_size\n",
       "average    0.549020\n",
       "large      0.150000\n",
       "solo       0.302532\n",
       "Name: survived, dtype: float64"
      ]
     },
     "execution_count": 32,
     "metadata": {},
     "output_type": "execute_result"
    }
   ],
   "source": [
    "titanic.groupby('fam_size').survived.mean()"
   ]
  },
  {
   "cell_type": "code",
   "execution_count": 33,
   "id": "ef31d34e-cc0c-4369-a942-aef9d380773c",
   "metadata": {},
   "outputs": [
    {
     "data": {
      "text/plain": [
       "fam_size  sex   \n",
       "average   female    0.771429\n",
       "          male      0.294393\n",
       "large     female    0.296296\n",
       "          male      0.030303\n",
       "solo      female    0.731959\n",
       "          male      0.162752\n",
       "Name: survived, dtype: float64"
      ]
     },
     "execution_count": 33,
     "metadata": {},
     "output_type": "execute_result"
    }
   ],
   "source": [
    "titanic.groupby(['fam_size', 'sex']).survived.mean()"
   ]
  },
  {
   "cell_type": "code",
   "execution_count": 34,
   "id": "b7c1cad2-4f97-4f63-875d-04023e6e74e9",
   "metadata": {},
   "outputs": [
    {
     "data": {
      "text/plain": [
       "0       1st\n",
       "1       1st\n",
       "2       1st\n",
       "3       1st\n",
       "4       1st\n",
       "       ... \n",
       "1304    3rd\n",
       "1305    3rd\n",
       "1306    3rd\n",
       "1307    3rd\n",
       "1308    3rd\n",
       "Name: pclass, Length: 1309, dtype: object"
      ]
     },
     "execution_count": 34,
     "metadata": {},
     "output_type": "execute_result"
    }
   ],
   "source": [
    "titanic['pclass'].map({1:'1st', 2:'2nd', 3:'3rd'})"
   ]
  },
  {
   "cell_type": "code",
   "execution_count": 35,
   "id": "9a935399-6c0e-4ca6-9d90-b2496faf35c9",
   "metadata": {},
   "outputs": [
    {
     "data": {
      "text/plain": [
       "0       False\n",
       "1        True\n",
       "2        True\n",
       "3       False\n",
       "4       False\n",
       "        ...  \n",
       "1304     True\n",
       "1305    False\n",
       "1306    False\n",
       "1307    False\n",
       "1308    False\n",
       "Name: age, Length: 1309, dtype: bool"
      ]
     },
     "execution_count": 35,
     "metadata": {},
     "output_type": "execute_result"
    }
   ],
   "source": [
    "titanic['age'].map(lambda a: a < 18)"
   ]
  },
  {
   "cell_type": "code",
   "execution_count": 47,
   "id": "5e2be20d-5aa5-47f9-b8cc-204da2983bc7",
   "metadata": {},
   "outputs": [
    {
     "data": {
      "text/plain": [
       "0        False\n",
       "1        False\n",
       "2         True\n",
       "3        False\n",
       "4        False\n",
       "         ...  \n",
       "88120    False\n",
       "88121    False\n",
       "88122    False\n",
       "88123    False\n",
       "88124    False\n",
       "Name: duration, Length: 88125, dtype: bool"
      ]
     },
     "execution_count": 47,
     "metadata": {},
     "output_type": "execute_result"
    }
   ],
   "source": [
    "ufos['duration'].str.contains('hour', na=True)"
   ]
  },
  {
   "cell_type": "code",
   "execution_count": null,
   "id": "d1613591-83be-431d-9a53-a8d835939c67",
   "metadata": {},
   "outputs": [],
   "source": []
  }
 ],
 "metadata": {
  "kernelspec": {
   "display_name": "Python 3",
   "language": "python",
   "name": "python3"
  },
  "language_info": {
   "codemirror_mode": {
    "name": "ipython",
    "version": 3
   },
   "file_extension": ".py",
   "mimetype": "text/x-python",
   "name": "python",
   "nbconvert_exporter": "python",
   "pygments_lexer": "ipython3",
   "version": "3.9.2"
  }
 },
 "nbformat": 4,
 "nbformat_minor": 5
}
